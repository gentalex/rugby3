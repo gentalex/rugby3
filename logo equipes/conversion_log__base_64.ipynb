{
 "cells": [
  {
   "cell_type": "code",
   "execution_count": 1,
   "metadata": {},
   "outputs": [],
   "source": [
    "import os\n",
    "import base64\n",
    "import pandas as pd\n",
    "\n",
    "# Dossier contenant les images\n",
    "image_folder = r\"C:\\Users\\aurel\\WILD_CODE_SCHOOL\\GIT_PROJET_RUGBY\\rugby3\\logo equipes\"\n",
    "\n",
    "# Fonction pour convertir une image en Base64\n",
    "def encode_image(image_path):\n",
    "    with open(image_path, \"rb\") as img_file:\n",
    "        return base64.b64encode(img_file.read()).decode(\"utf-8\")\n",
    "\n",
    "# Liste des images et conversion\n",
    "data = []\n",
    "for file_name in os.listdir(image_folder):\n",
    "    if file_name.endswith(\".png\"):  # Vérifie que c'est bien une image PNG\n",
    "        file_path = os.path.join(image_folder, file_name)\n",
    "        data.append({\n",
    "            \"Nom_Image\": file_name,\n",
    "            \"Base64\": encode_image(file_path)\n",
    "        })\n",
    "\n",
    "# Création du DataFrame\n",
    "df = pd.DataFrame(data)\n",
    "\n",
    "# Sauvegarde en CSV pour import dans Power BI\n",
    "df.to_csv(\"logos_base64.csv\", index=False)\n"
   ]
  },
  {
   "cell_type": "code",
   "execution_count": null,
   "metadata": {},
   "outputs": [],
   "source": []
  }
 ],
 "metadata": {
  "kernelspec": {
   "display_name": "Python 3",
   "language": "python",
   "name": "python3"
  },
  "language_info": {
   "codemirror_mode": {
    "name": "ipython",
    "version": 3
   },
   "file_extension": ".py",
   "mimetype": "text/x-python",
   "name": "python",
   "nbconvert_exporter": "python",
   "pygments_lexer": "ipython3",
   "version": "3.11.9"
  }
 },
 "nbformat": 4,
 "nbformat_minor": 2
}
