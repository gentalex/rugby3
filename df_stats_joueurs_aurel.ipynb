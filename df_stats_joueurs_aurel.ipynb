{
 "cells": [
  {
   "cell_type": "code",
   "execution_count": 1,
   "metadata": {},
   "outputs": [],
   "source": [
    "from bs4 import BeautifulSoup\n",
    "import requests\n",
    "import re\n",
    "import pandas as pd"
   ]
  },
  {
   "cell_type": "code",
   "execution_count": 2,
   "metadata": {},
   "outputs": [],
   "source": [
    "url = requests.get('https://top14.lnr.fr/statistiques/joueurs')\n",
    "soup = BeautifulSoup(url.text, 'html.parser')"
   ]
  },
  {
   "cell_type": "code",
   "execution_count": 3,
   "metadata": {},
   "outputs": [
    {
     "data": {
      "text/plain": [
       "<Response [200]>"
      ]
     },
     "execution_count": 3,
     "metadata": {},
     "output_type": "execute_result"
    }
   ],
   "source": [
    "url"
   ]
  },
  {
   "cell_type": "code",
   "execution_count": 4,
   "metadata": {},
   "outputs": [],
   "source": [
    "# print(url.text)"
   ]
  },
  {
   "cell_type": "code",
   "execution_count": null,
   "metadata": {},
   "outputs": [],
   "source": []
  },
  {
   "cell_type": "code",
   "execution_count": 5,
   "metadata": {},
   "outputs": [],
   "source": [
    "# soup"
   ]
  },
  {
   "cell_type": "code",
   "execution_count": 6,
   "metadata": {},
   "outputs": [],
   "source": [
    "# # FONCTIONNE\n",
    "# # RECUPERATION DES TITRES DES DE CHAQUE STATS AINSI QUE LES 3 MEILLEURS JOUEURS\n",
    "\n",
    "# soup.find_all('div', {'class': 'season-top-block__wrapper'})\n",
    "\n",
    "# # 1ere boucle\n",
    "# for title in soup.find_all('div', {'class': 'season-top-block__wrapper'}):\n",
    "#     print(title.find_all('h3')[0].get_text())\n",
    "\n",
    "# # 2 eme boucle    \n",
    "#     for player in range(len(ele.find_all('a', {'class':'season-top-line__name'}))):\n",
    "#         print(title.find_all('a', {'class':'season-top-line__name'})[player].get_text().strip())\n"
   ]
  },
  {
   "cell_type": "markdown",
   "metadata": {},
   "source": [
    "# a transformer en fonction"
   ]
  },
  {
   "cell_type": "code",
   "execution_count": 7,
   "metadata": {},
   "outputs": [],
   "source": [
    "list_annee = ['2019-2020', '2020-2021', '2021-2022', '2022-2023', '2023-2024', '2024-2025']"
   ]
  },
  {
   "cell_type": "code",
   "execution_count": 8,
   "metadata": {},
   "outputs": [],
   "source": [
    "dico_category = {0:\"Meilleurs réalisateurs\",\n",
    "                 1:\"Meilleurs marqueurs d\\'essais\",\n",
    "                 2:\"Meilleurs marqueurs de drops\",\n",
    "                 3:\"Meilleurs taux de transformation\",\n",
    "                 4:\"Plus de temps de jeu\",\n",
    "                 5:\"Moyene de points par match la plus haute\",\n",
    "                 6:\"Nombre de cartons\"}\n",
    "\n",
    "df = pd.DataFrame()\n",
    "stats_total = []\n",
    "df_final = pd.DataFrame()\n",
    "\n",
    "for annee in list_annee:\n",
    "\n",
    "    url = requests.get(f'https://top14.lnr.fr/statistiques/joueurs/{annee}?')\n",
    "    soup = BeautifulSoup(url.text, 'html.parser')\n",
    "\n",
    "    # Initialiser des listes vides pour chaque catégorie\n",
    "    meilleurs_real = []\n",
    "    meilleurs_marqueur_essais = []\n",
    "    meilleurs_marqueur_drops = []\n",
    "    meilleurs_taux_transfo = []\n",
    "    temps_de_jeu = []\n",
    "    moyenne_points_match = []\n",
    "    nombre_cartons = []\n",
    "\n",
    "    # je recherche via les balises les informations\n",
    "    for title in soup.find_all('div', {'class': 'season-top-block__wrapper'}):\n",
    "        # je recherche tous les titres des catégories\n",
    "        # le titre correspond à chaque catégorie recherchée\n",
    "        titre = title.find('h3').get_text().strip()\n",
    "        \n",
    "        # récupération des joueurs popur chaque liste\n",
    "        # pour chaque joueurs depuis ma soup via find_all (balise et class), je récupère leurs noms avec get_text() et .strip() pour supprimer les espaces\n",
    "        player = [player.get_text().strip() for player in title.find_all('a', {'class': 'season-top-line__name'})]\n",
    "        stats = [stats.get_text().strip() for stats in title.find_all('div', {'class': 'season-top-line__stat-number'})]\n",
    "        stats_total = stats_total + stats\n",
    "        # print(stats_total)\n",
    "        # associer chaque joueurs à la liste correspondantes avec des conditions \n",
    "        if titre == \"Meilleur réalisateur\":\n",
    "            meilleurs_real = player\n",
    "        elif titre == \"Meilleur marqueur d'essais\":\n",
    "            meilleurs_marqueur_essais = player\n",
    "        elif titre == \"Meilleur marqueur de drops\":\n",
    "            meilleurs_marqueur_drops = player\n",
    "        elif titre == \"Meilleur taux de transfo\":\n",
    "            meilleurs_taux_transfo = player\n",
    "        elif titre == \"Temps de jeu\":\n",
    "            temps_de_jeu = player\n",
    "        elif titre == \"Moyenne de points par match\":\n",
    "            moyenne_points_match = player\n",
    "        elif titre == \"Nombre de cartons\":\n",
    "            nombre_cartons = player\n",
    "    \n",
    "    all_list = [meilleurs_real, meilleurs_marqueur_essais, meilleurs_marqueur_drops, meilleurs_taux_transfo, temps_de_jeu, moyenne_points_match, nombre_cartons]\n",
    "\n",
    "    for list in all_list:\n",
    "        list[0] = list[0].replace('\\xa0', \"\")\n",
    "        # print(list)\n",
    "\n",
    "    for indice, list in enumerate(all_list):\n",
    "\n",
    "        df_stats = pd.DataFrame({\n",
    "            \"RANK\":[1, 2, 3],\n",
    "            \"CATEGORY\":dico_category[indice],\n",
    "            \"NAME\":list,\n",
    "            \"SEASON\":annee\n",
    "        })\n",
    "        \n",
    "        df = pd.concat([df, df_stats])\n",
    "        \n",
    "df['STATS'] = stats_total\n",
    "\n",
    "df_final = pd.concat([df_final, df])\n",
    "\n",
    "df_final.reset_index(drop = True, inplace = True)"
   ]
  },
  {
   "cell_type": "code",
   "execution_count": 9,
   "metadata": {},
   "outputs": [
    {
     "data": {
      "application/vnd.microsoft.datawrangler.viewer.v0+json": {
       "columns": [
        {
         "name": "index",
         "rawType": "int64",
         "type": "integer"
        },
        {
         "name": "RANK",
         "rawType": "int64",
         "type": "integer"
        },
        {
         "name": "CATEGORY",
         "rawType": "object",
         "type": "string"
        },
        {
         "name": "NAME",
         "rawType": "object",
         "type": "string"
        },
        {
         "name": "SEASON",
         "rawType": "object",
         "type": "string"
        },
        {
         "name": "STATS",
         "rawType": "object",
         "type": "string"
        }
       ],
       "conversionMethod": "pd.DataFrame",
       "ref": "8d08fc3d-bb04-4c7d-b79e-8f5b50058cbe",
       "rows": [
        [
         "0",
         "1",
         "Meilleurs réalisateurs",
         "T.LARANJEIRA",
         "2019-2020",
         "176"
        ],
        [
         "1",
         "2",
         "Meilleurs réalisateurs",
         "Anthony BELLEAU",
         "2019-2020",
         "171"
        ],
        [
         "2",
         "3",
         "Meilleurs réalisateurs",
         "Antoine HASTOY",
         "2019-2020",
         "139"
        ],
        [
         "3",
         "1",
         "Meilleurs marqueurs d'essais",
         "A.RETIERE",
         "2019-2020",
         "8"
        ],
        [
         "4",
         "2",
         "Meilleurs marqueurs d'essais",
         "Thomas COMBEZOU",
         "2019-2020",
         "7"
        ],
        [
         "5",
         "3",
         "Meilleurs marqueurs d'essais",
         "Kylan HAMDAOUI",
         "2019-2020",
         "7"
        ],
        [
         "6",
         "1",
         "Meilleurs marqueurs de drops",
         "Z.HOLMES",
         "2019-2020",
         "1"
        ],
        [
         "7",
         "2",
         "Meilleurs marqueurs de drops",
         "Léo BERDEU",
         "2019-2020",
         "1"
        ],
        [
         "8",
         "3",
         "Meilleurs marqueurs de drops",
         "Jonathan WISNIEWSKI",
         "2019-2020",
         "1"
        ],
        [
         "9",
         "1",
         "Meilleurs taux de transformation",
         "B.JAMES",
         "2019-2020",
         "94,1"
        ],
        [
         "10",
         "2",
         "Meilleurs taux de transformation",
         "Morgan PARRA",
         "2019-2020",
         "92,3"
        ],
        [
         "11",
         "3",
         "Meilleurs taux de transformation",
         "Benjamin URDAPILLETA",
         "2019-2020",
         "92,3"
        ],
        [
         "12",
         "1",
         "Plus de temps de jeu",
         "B.CHOUZENOUX",
         "2019-2020",
         "1 276"
        ],
        [
         "13",
         "2",
         "Plus de temps de jeu",
         "Swan REBBADJ",
         "2019-2020",
         "1 276"
        ],
        [
         "14",
         "3",
         "Plus de temps de jeu",
         "Charlie NGATAI",
         "2019-2020",
         "1 267"
        ],
        [
         "15",
         "1",
         "Moyene de points par match la plus haute",
         "T.LARANJEIRA",
         "2019-2020",
         "11,7"
        ],
        [
         "16",
         "2",
         "Moyene de points par match la plus haute",
         "Anthony BELLEAU",
         "2019-2020",
         "11,4"
        ],
        [
         "17",
         "3",
         "Moyene de points par match la plus haute",
         "Handre POLLARD",
         "2019-2020",
         "11"
        ],
        [
         "18",
         "1",
         "Nombre de cartons",
         "J.TAULAGI",
         "2019-2020",
         "3"
        ],
        [
         "19",
         "2",
         "Nombre de cartons",
         "Rory KOCKOTT",
         "2019-2020",
         "3"
        ],
        [
         "20",
         "3",
         "Nombre de cartons",
         "Talalelei GRAY",
         "2019-2020",
         "3"
        ],
        [
         "21",
         "1",
         "Meilleurs réalisateurs",
         "B.URDAPILLETA",
         "2020-2021",
         "321"
        ],
        [
         "22",
         "2",
         "Meilleurs réalisateurs",
         "Joris SEGONDS",
         "2020-2021",
         "315"
        ],
        [
         "23",
         "3",
         "Meilleurs réalisateurs",
         "Antoine HASTOY",
         "2020-2021",
         "282"
        ],
        [
         "24",
         "1",
         "Meilleurs marqueurs d'essais",
         "J.TUISOVA",
         "2020-2021",
         "14"
        ],
        [
         "25",
         "2",
         "Meilleurs marqueurs d'essais",
         "Matthis LEBEL",
         "2020-2021",
         "13"
        ],
        [
         "26",
         "3",
         "Meilleurs marqueurs d'essais",
         "Filipo NAKOSI",
         "2020-2021",
         "12"
        ],
        [
         "27",
         "1",
         "Meilleurs marqueurs de drops",
         "J.SEGONDS",
         "2020-2021",
         "4"
        ],
        [
         "28",
         "2",
         "Meilleurs marqueurs de drops",
         "Jonathan WISNIEWSKI",
         "2020-2021",
         "4"
        ],
        [
         "29",
         "3",
         "Meilleurs marqueurs de drops",
         "Jean-marcellin BUTTIN",
         "2020-2021",
         "1"
        ],
        [
         "30",
         "1",
         "Meilleurs taux de transformation",
         "M.LAFAGE",
         "2020-2021",
         "100"
        ],
        [
         "31",
         "2",
         "Meilleurs taux de transformation",
         "Morgan PARRA",
         "2020-2021",
         "93,0"
        ],
        [
         "32",
         "3",
         "Meilleurs taux de transformation",
         "Louis FOURSANS BOURDETTE",
         "2020-2021",
         "92,3"
        ],
        [
         "33",
         "1",
         "Plus de temps de jeu",
         "J.DUMORA",
         "2020-2021",
         "1 962"
        ],
        [
         "34",
         "2",
         "Plus de temps de jeu",
         "Thomas COMBEZOU",
         "2020-2021",
         "1 886"
        ],
        [
         "35",
         "3",
         "Plus de temps de jeu",
         "Benjamin URDAPILLETA",
         "2020-2021",
         "1 883"
        ],
        [
         "36",
         "1",
         "Moyene de points par match la plus haute",
         "L.CARBONEL",
         "2020-2021",
         "13,6"
        ],
        [
         "37",
         "2",
         "Moyene de points par match la plus haute",
         "Benjamin URDAPILLETA",
         "2020-2021",
         "13,4"
        ],
        [
         "38",
         "3",
         "Moyene de points par match la plus haute",
         "Antoine HASTOY",
         "2020-2021",
         "12,8"
        ],
        [
         "39",
         "1",
         "Nombre de cartons",
         "G.HABEL KUFFNER",
         "2020-2021",
         "6"
        ],
        [
         "40",
         "2",
         "Nombre de cartons",
         "Duncan PAIA'AUA",
         "2020-2021",
         "4"
        ],
        [
         "41",
         "3",
         "Nombre de cartons",
         "Alexandre ROUMAT",
         "2020-2021",
         "4"
        ],
        [
         "42",
         "1",
         "Meilleurs réalisateurs",
         "L.BERDEU",
         "2021-2022",
         "251"
        ],
        [
         "43",
         "2",
         "Meilleurs réalisateurs",
         "Antoine HASTOY",
         "2021-2022",
         "250"
        ],
        [
         "44",
         "3",
         "Meilleurs réalisateurs",
         "Thomas RAMOS",
         "2021-2022",
         "225"
        ],
        [
         "45",
         "1",
         "Meilleurs marqueurs d'essais",
         "B.COUILLOUD",
         "2021-2022",
         "11"
        ],
        [
         "46",
         "2",
         "Meilleurs marqueurs d'essais",
         "Ulupano SEUTENI",
         "2021-2022",
         "10"
        ],
        [
         "47",
         "3",
         "Meilleurs marqueurs d'essais",
         "Jules FAVRE",
         "2021-2022",
         "9"
        ],
        [
         "48",
         "1",
         "Meilleurs marqueurs de drops",
         "J.DUMORA",
         "2021-2022",
         "5"
        ],
        [
         "49",
         "2",
         "Meilleurs marqueurs de drops",
         "Francois TRINH DUC",
         "2021-2022",
         "4"
        ]
       ],
       "shape": {
        "columns": 5,
        "rows": 126
       }
      },
      "text/html": [
       "<div>\n",
       "<style scoped>\n",
       "    .dataframe tbody tr th:only-of-type {\n",
       "        vertical-align: middle;\n",
       "    }\n",
       "\n",
       "    .dataframe tbody tr th {\n",
       "        vertical-align: top;\n",
       "    }\n",
       "\n",
       "    .dataframe thead th {\n",
       "        text-align: right;\n",
       "    }\n",
       "</style>\n",
       "<table border=\"1\" class=\"dataframe\">\n",
       "  <thead>\n",
       "    <tr style=\"text-align: right;\">\n",
       "      <th></th>\n",
       "      <th>RANK</th>\n",
       "      <th>CATEGORY</th>\n",
       "      <th>NAME</th>\n",
       "      <th>SEASON</th>\n",
       "      <th>STATS</th>\n",
       "    </tr>\n",
       "  </thead>\n",
       "  <tbody>\n",
       "    <tr>\n",
       "      <th>0</th>\n",
       "      <td>1</td>\n",
       "      <td>Meilleurs réalisateurs</td>\n",
       "      <td>T.LARANJEIRA</td>\n",
       "      <td>2019-2020</td>\n",
       "      <td>176</td>\n",
       "    </tr>\n",
       "    <tr>\n",
       "      <th>1</th>\n",
       "      <td>2</td>\n",
       "      <td>Meilleurs réalisateurs</td>\n",
       "      <td>Anthony BELLEAU</td>\n",
       "      <td>2019-2020</td>\n",
       "      <td>171</td>\n",
       "    </tr>\n",
       "    <tr>\n",
       "      <th>2</th>\n",
       "      <td>3</td>\n",
       "      <td>Meilleurs réalisateurs</td>\n",
       "      <td>Antoine HASTOY</td>\n",
       "      <td>2019-2020</td>\n",
       "      <td>139</td>\n",
       "    </tr>\n",
       "    <tr>\n",
       "      <th>3</th>\n",
       "      <td>1</td>\n",
       "      <td>Meilleurs marqueurs d'essais</td>\n",
       "      <td>A.RETIERE</td>\n",
       "      <td>2019-2020</td>\n",
       "      <td>8</td>\n",
       "    </tr>\n",
       "    <tr>\n",
       "      <th>4</th>\n",
       "      <td>2</td>\n",
       "      <td>Meilleurs marqueurs d'essais</td>\n",
       "      <td>Thomas COMBEZOU</td>\n",
       "      <td>2019-2020</td>\n",
       "      <td>7</td>\n",
       "    </tr>\n",
       "    <tr>\n",
       "      <th>...</th>\n",
       "      <td>...</td>\n",
       "      <td>...</td>\n",
       "      <td>...</td>\n",
       "      <td>...</td>\n",
       "      <td>...</td>\n",
       "    </tr>\n",
       "    <tr>\n",
       "      <th>121</th>\n",
       "      <td>2</td>\n",
       "      <td>Moyene de points par match la plus haute</td>\n",
       "      <td>Nolann LE GARREC</td>\n",
       "      <td>2024-2025</td>\n",
       "      <td>12,1</td>\n",
       "    </tr>\n",
       "    <tr>\n",
       "      <th>122</th>\n",
       "      <td>3</td>\n",
       "      <td>Moyene de points par match la plus haute</td>\n",
       "      <td>Léo BERDEU</td>\n",
       "      <td>2024-2025</td>\n",
       "      <td>11,5</td>\n",
       "    </tr>\n",
       "    <tr>\n",
       "      <th>123</th>\n",
       "      <td>1</td>\n",
       "      <td>Nombre de cartons</td>\n",
       "      <td>C.WOKI</td>\n",
       "      <td>2024-2025</td>\n",
       "      <td>3</td>\n",
       "    </tr>\n",
       "    <tr>\n",
       "      <th>124</th>\n",
       "      <td>2</td>\n",
       "      <td>Nombre de cartons</td>\n",
       "      <td>Apisai NAQALEVU</td>\n",
       "      <td>2024-2025</td>\n",
       "      <td>3</td>\n",
       "    </tr>\n",
       "    <tr>\n",
       "      <th>125</th>\n",
       "      <td>3</td>\n",
       "      <td>Nombre de cartons</td>\n",
       "      <td>Levan CHILACHAVA</td>\n",
       "      <td>2024-2025</td>\n",
       "      <td>3</td>\n",
       "    </tr>\n",
       "  </tbody>\n",
       "</table>\n",
       "<p>126 rows × 5 columns</p>\n",
       "</div>"
      ],
      "text/plain": [
       "     RANK                                  CATEGORY              NAME  \\\n",
       "0       1                    Meilleurs réalisateurs      T.LARANJEIRA   \n",
       "1       2                    Meilleurs réalisateurs   Anthony BELLEAU   \n",
       "2       3                    Meilleurs réalisateurs    Antoine HASTOY   \n",
       "3       1              Meilleurs marqueurs d'essais         A.RETIERE   \n",
       "4       2              Meilleurs marqueurs d'essais   Thomas COMBEZOU   \n",
       "..    ...                                       ...               ...   \n",
       "121     2  Moyene de points par match la plus haute  Nolann LE GARREC   \n",
       "122     3  Moyene de points par match la plus haute        Léo BERDEU   \n",
       "123     1                         Nombre de cartons            C.WOKI   \n",
       "124     2                         Nombre de cartons   Apisai NAQALEVU   \n",
       "125     3                         Nombre de cartons  Levan CHILACHAVA   \n",
       "\n",
       "        SEASON STATS  \n",
       "0    2019-2020   176  \n",
       "1    2019-2020   171  \n",
       "2    2019-2020   139  \n",
       "3    2019-2020     8  \n",
       "4    2019-2020     7  \n",
       "..         ...   ...  \n",
       "121  2024-2025  12,1  \n",
       "122  2024-2025  11,5  \n",
       "123  2024-2025     3  \n",
       "124  2024-2025     3  \n",
       "125  2024-2025     3  \n",
       "\n",
       "[126 rows x 5 columns]"
      ]
     },
     "execution_count": 9,
     "metadata": {},
     "output_type": "execute_result"
    }
   ],
   "source": [
    "df_final"
   ]
  },
  {
   "cell_type": "code",
   "execution_count": 10,
   "metadata": {},
   "outputs": [
    {
     "data": {
      "text/plain": [
       "126"
      ]
     },
     "execution_count": 10,
     "metadata": {},
     "output_type": "execute_result"
    }
   ],
   "source": [
    "len(stats_total)"
   ]
  },
  {
   "cell_type": "code",
   "execution_count": 11,
   "metadata": {},
   "outputs": [
    {
     "data": {
      "application/vnd.microsoft.datawrangler.viewer.v0+json": {
       "columns": [
        {
         "name": "index",
         "rawType": "int64",
         "type": "integer"
        },
        {
         "name": "RANK",
         "rawType": "int64",
         "type": "integer"
        },
        {
         "name": "CATEGORY",
         "rawType": "object",
         "type": "string"
        },
        {
         "name": "NAME",
         "rawType": "object",
         "type": "string"
        }
       ],
       "conversionMethod": "pd.DataFrame",
       "ref": "ee0fb9ca-b73f-44ac-8642-1f53fbd6a4cd",
       "rows": [
        [
         "0",
         "1",
         "Meilleurs réalisateurs",
         "J.SIMMONDS"
        ],
        [
         "1",
         "2",
         "Meilleurs réalisateurs",
         "Léo BERDEU"
        ],
        [
         "2",
         "3",
         "Meilleurs réalisateurs",
         "Maxime LAFAGE"
        ],
        [
         "0",
         "1",
         "Meilleurs marqueurs d'essais",
         "G.DREAN"
        ],
        [
         "1",
         "2",
         "Meilleurs marqueurs d'essais",
         "Sireli MAQALA"
        ],
        [
         "2",
         "3",
         "Meilleurs marqueurs d'essais",
         "Baptiste COUILLOUD"
        ],
        [
         "0",
         "1",
         "Meilleurs marqueurs de drops",
         "J.SIMMONDS"
        ],
        [
         "1",
         "2",
         "Meilleurs marqueurs de drops",
         "Maxime LAFAGE"
        ],
        [
         "2",
         "3",
         "Meilleurs marqueurs de drops",
         "Louis CARBONEL"
        ],
        [
         "0",
         "1",
         "Meilleurs taux de transformation",
         "J.MALLIA"
        ],
        [
         "1",
         "2",
         "Meilleurs taux de transformation",
         "Maxime LUCU"
        ],
        [
         "2",
         "3",
         "Meilleurs taux de transformation",
         "Thibault DAUBAGNA"
        ],
        [
         "0",
         "1",
         "Plus de temps de jeu",
         "F.GORRISSEN"
        ],
        [
         "1",
         "2",
         "Plus de temps de jeu",
         "Joe SIMMONDS"
        ],
        [
         "2",
         "3",
         "Plus de temps de jeu",
         "Thomas CEYTE"
        ],
        [
         "0",
         "1",
         "Moyene de points par match la plus haute",
         "T.RAMOS"
        ],
        [
         "1",
         "2",
         "Moyene de points par match la plus haute",
         "Nolann LE GARREC"
        ],
        [
         "2",
         "3",
         "Moyene de points par match la plus haute",
         "Léo BERDEU"
        ],
        [
         "0",
         "1",
         "Nombre de cartons",
         "C.WOKI"
        ],
        [
         "1",
         "2",
         "Nombre de cartons",
         "Apisai NAQALEVU"
        ],
        [
         "2",
         "3",
         "Nombre de cartons",
         "Levan CHILACHAVA"
        ]
       ],
       "shape": {
        "columns": 3,
        "rows": 21
       }
      },
      "text/html": [
       "<div>\n",
       "<style scoped>\n",
       "    .dataframe tbody tr th:only-of-type {\n",
       "        vertical-align: middle;\n",
       "    }\n",
       "\n",
       "    .dataframe tbody tr th {\n",
       "        vertical-align: top;\n",
       "    }\n",
       "\n",
       "    .dataframe thead th {\n",
       "        text-align: right;\n",
       "    }\n",
       "</style>\n",
       "<table border=\"1\" class=\"dataframe\">\n",
       "  <thead>\n",
       "    <tr style=\"text-align: right;\">\n",
       "      <th></th>\n",
       "      <th>RANK</th>\n",
       "      <th>CATEGORY</th>\n",
       "      <th>NAME</th>\n",
       "    </tr>\n",
       "  </thead>\n",
       "  <tbody>\n",
       "    <tr>\n",
       "      <th>0</th>\n",
       "      <td>1</td>\n",
       "      <td>Meilleurs réalisateurs</td>\n",
       "      <td>J.SIMMONDS</td>\n",
       "    </tr>\n",
       "    <tr>\n",
       "      <th>1</th>\n",
       "      <td>2</td>\n",
       "      <td>Meilleurs réalisateurs</td>\n",
       "      <td>Léo BERDEU</td>\n",
       "    </tr>\n",
       "    <tr>\n",
       "      <th>2</th>\n",
       "      <td>3</td>\n",
       "      <td>Meilleurs réalisateurs</td>\n",
       "      <td>Maxime LAFAGE</td>\n",
       "    </tr>\n",
       "    <tr>\n",
       "      <th>0</th>\n",
       "      <td>1</td>\n",
       "      <td>Meilleurs marqueurs d'essais</td>\n",
       "      <td>G.DREAN</td>\n",
       "    </tr>\n",
       "    <tr>\n",
       "      <th>1</th>\n",
       "      <td>2</td>\n",
       "      <td>Meilleurs marqueurs d'essais</td>\n",
       "      <td>Sireli MAQALA</td>\n",
       "    </tr>\n",
       "    <tr>\n",
       "      <th>2</th>\n",
       "      <td>3</td>\n",
       "      <td>Meilleurs marqueurs d'essais</td>\n",
       "      <td>Baptiste COUILLOUD</td>\n",
       "    </tr>\n",
       "    <tr>\n",
       "      <th>0</th>\n",
       "      <td>1</td>\n",
       "      <td>Meilleurs marqueurs de drops</td>\n",
       "      <td>J.SIMMONDS</td>\n",
       "    </tr>\n",
       "    <tr>\n",
       "      <th>1</th>\n",
       "      <td>2</td>\n",
       "      <td>Meilleurs marqueurs de drops</td>\n",
       "      <td>Maxime LAFAGE</td>\n",
       "    </tr>\n",
       "    <tr>\n",
       "      <th>2</th>\n",
       "      <td>3</td>\n",
       "      <td>Meilleurs marqueurs de drops</td>\n",
       "      <td>Louis CARBONEL</td>\n",
       "    </tr>\n",
       "    <tr>\n",
       "      <th>0</th>\n",
       "      <td>1</td>\n",
       "      <td>Meilleurs taux de transformation</td>\n",
       "      <td>J.MALLIA</td>\n",
       "    </tr>\n",
       "    <tr>\n",
       "      <th>1</th>\n",
       "      <td>2</td>\n",
       "      <td>Meilleurs taux de transformation</td>\n",
       "      <td>Maxime LUCU</td>\n",
       "    </tr>\n",
       "    <tr>\n",
       "      <th>2</th>\n",
       "      <td>3</td>\n",
       "      <td>Meilleurs taux de transformation</td>\n",
       "      <td>Thibault DAUBAGNA</td>\n",
       "    </tr>\n",
       "    <tr>\n",
       "      <th>0</th>\n",
       "      <td>1</td>\n",
       "      <td>Plus de temps de jeu</td>\n",
       "      <td>F.GORRISSEN</td>\n",
       "    </tr>\n",
       "    <tr>\n",
       "      <th>1</th>\n",
       "      <td>2</td>\n",
       "      <td>Plus de temps de jeu</td>\n",
       "      <td>Joe SIMMONDS</td>\n",
       "    </tr>\n",
       "    <tr>\n",
       "      <th>2</th>\n",
       "      <td>3</td>\n",
       "      <td>Plus de temps de jeu</td>\n",
       "      <td>Thomas CEYTE</td>\n",
       "    </tr>\n",
       "    <tr>\n",
       "      <th>0</th>\n",
       "      <td>1</td>\n",
       "      <td>Moyene de points par match la plus haute</td>\n",
       "      <td>T.RAMOS</td>\n",
       "    </tr>\n",
       "    <tr>\n",
       "      <th>1</th>\n",
       "      <td>2</td>\n",
       "      <td>Moyene de points par match la plus haute</td>\n",
       "      <td>Nolann LE GARREC</td>\n",
       "    </tr>\n",
       "    <tr>\n",
       "      <th>2</th>\n",
       "      <td>3</td>\n",
       "      <td>Moyene de points par match la plus haute</td>\n",
       "      <td>Léo BERDEU</td>\n",
       "    </tr>\n",
       "    <tr>\n",
       "      <th>0</th>\n",
       "      <td>1</td>\n",
       "      <td>Nombre de cartons</td>\n",
       "      <td>C.WOKI</td>\n",
       "    </tr>\n",
       "    <tr>\n",
       "      <th>1</th>\n",
       "      <td>2</td>\n",
       "      <td>Nombre de cartons</td>\n",
       "      <td>Apisai NAQALEVU</td>\n",
       "    </tr>\n",
       "    <tr>\n",
       "      <th>2</th>\n",
       "      <td>3</td>\n",
       "      <td>Nombre de cartons</td>\n",
       "      <td>Levan CHILACHAVA</td>\n",
       "    </tr>\n",
       "  </tbody>\n",
       "</table>\n",
       "</div>"
      ],
      "text/plain": [
       "   RANK                                  CATEGORY                NAME\n",
       "0     1                    Meilleurs réalisateurs          J.SIMMONDS\n",
       "1     2                    Meilleurs réalisateurs          Léo BERDEU\n",
       "2     3                    Meilleurs réalisateurs       Maxime LAFAGE\n",
       "0     1              Meilleurs marqueurs d'essais             G.DREAN\n",
       "1     2              Meilleurs marqueurs d'essais       Sireli MAQALA\n",
       "2     3              Meilleurs marqueurs d'essais  Baptiste COUILLOUD\n",
       "0     1              Meilleurs marqueurs de drops          J.SIMMONDS\n",
       "1     2              Meilleurs marqueurs de drops       Maxime LAFAGE\n",
       "2     3              Meilleurs marqueurs de drops      Louis CARBONEL\n",
       "0     1          Meilleurs taux de transformation            J.MALLIA\n",
       "1     2          Meilleurs taux de transformation         Maxime LUCU\n",
       "2     3          Meilleurs taux de transformation   Thibault DAUBAGNA\n",
       "0     1                      Plus de temps de jeu         F.GORRISSEN\n",
       "1     2                      Plus de temps de jeu        Joe SIMMONDS\n",
       "2     3                      Plus de temps de jeu        Thomas CEYTE\n",
       "0     1  Moyene de points par match la plus haute             T.RAMOS\n",
       "1     2  Moyene de points par match la plus haute    Nolann LE GARREC\n",
       "2     3  Moyene de points par match la plus haute          Léo BERDEU\n",
       "0     1                         Nombre de cartons              C.WOKI\n",
       "1     2                         Nombre de cartons     Apisai NAQALEVU\n",
       "2     3                         Nombre de cartons    Levan CHILACHAVA"
      ]
     },
     "execution_count": 11,
     "metadata": {},
     "output_type": "execute_result"
    }
   ],
   "source": [
    "df = pd.DataFrame()\n",
    "\n",
    "for indice, list in enumerate(all_list):\n",
    "\n",
    "    df_stats = pd.DataFrame({\n",
    "        \"RANK\":[1, 2, 3],\n",
    "        \"CATEGORY\":dico_category[indice],\n",
    "        \"NAME\":list \n",
    "    })\n",
    "    \n",
    "    df = pd.concat([df, df_stats])\n",
    "    \n",
    "df\n",
    "\n",
    "    "
   ]
  },
  {
   "cell_type": "code",
   "execution_count": 12,
   "metadata": {},
   "outputs": [],
   "source": [
    "df.to_csv(\"df_stats_jouerurs_top_3.csv\")"
   ]
  },
  {
   "cell_type": "markdown",
   "metadata": {},
   "source": [
    "# Nouveau système avec avancement année par année"
   ]
  },
  {
   "cell_type": "code",
   "execution_count": 13,
   "metadata": {},
   "outputs": [],
   "source": [
    "# print(meilleurs_real)\n",
    "# print(meilleurs_marqueur_essais)\n",
    "# print(meilleurs_marqueur_drops)\n",
    "# print(meilleurs_taux_transfo)\n",
    "# print(temps_de_jeu)\n",
    "# print(moyenne_points_match)\n",
    "# print(nombre_cartons)"
   ]
  },
  {
   "cell_type": "code",
   "execution_count": 14,
   "metadata": {},
   "outputs": [],
   "source": [
    "# meilleurs_real[0].replace('\\xa0', \"\")"
   ]
  },
  {
   "cell_type": "code",
   "execution_count": 15,
   "metadata": {},
   "outputs": [],
   "source": [
    "# all_list = [meilleurs_real, meilleurs_marqueur_essais, meilleurs_marqueur_drops, meilleurs_taux_transfo, temps_de_jeu, moyenne_points_match, nombre_cartons]\n",
    "\n",
    "# for list in all_list:\n",
    "#     list[0] = list[0].replace('\\xa0', \"\")\n",
    "#     print(list)"
   ]
  },
  {
   "cell_type": "markdown",
   "metadata": {},
   "source": [
    "# CREATION DE LA FONCTION TOP 3"
   ]
  },
  {
   "cell_type": "code",
   "execution_count": 16,
   "metadata": {},
   "outputs": [],
   "source": [
    "def fn_top_3():\n",
    "    # Initialiser des listes vides pour chaque catégorie\n",
    "    meilleurs_real = []\n",
    "    meilleurs_marqueur_essais = []\n",
    "    meilleurs_marqueur_drops = []\n",
    "    meilleurs_taux_transfo = []\n",
    "    temps_de_jeu = []\n",
    "    moyenne_points_match = []\n",
    "    nombre_cartons = []\n",
    "\n",
    "    # je recherche via les balises les informations\n",
    "    for title in soup.find_all('div', {'class': 'season-top-block__wrapper'}):\n",
    "        # je recherche tous les titres des catégories\n",
    "        # le titre correspond à chaque catégorie recherchée\n",
    "        titre = title.find('h3').get_text().strip()\n",
    "        \n",
    "        # récupération des joueurs popur chaque liste\n",
    "        # pour chaque joueurs depuis ma soup via find_all (balise et class), je récupère leurs noms avec get_text() et .strip() pour supprimer les espaces\n",
    "        player = [player.get_text().strip() for player in title.find_all('a', {'class': 'season-top-line__name'})]\n",
    "\n",
    "        # associer chaque joueurs à la liste correspondantes avec des conditions \n",
    "        if titre == \"Meilleur réalisateur\":\n",
    "            meilleurs_real = player\n",
    "        elif titre == \"Meilleur marqueur d'essais\":\n",
    "            meilleurs_marqueur_essais = player\n",
    "        elif titre == \"Meilleur marqueur de drops\":\n",
    "            meilleurs_marqueur_drops = player\n",
    "        elif titre == \"Meilleur taux de transfo\":\n",
    "            meilleurs_taux_transfo = player\n",
    "        elif titre == \"Temps de jeu\":\n",
    "            temps_de_jeu = player\n",
    "        elif titre == \"Moyenne de points par match\":\n",
    "            moyenne_points_match = player\n",
    "        elif titre == \"Nombre de cartons\":\n",
    "            nombre_cartons = player\n",
    "\n",
    "    all_list = [meilleurs_real, meilleurs_marqueur_essais, meilleurs_marqueur_drops, meilleurs_taux_transfo, temps_de_jeu, moyenne_points_match, nombre_cartons]\n",
    "\n",
    "    for list in all_list:\n",
    "        list[0] = list[0].replace('\\xa0', \"\")\n",
    "        print(list)\n"
   ]
  },
  {
   "cell_type": "code",
   "execution_count": 17,
   "metadata": {},
   "outputs": [
    {
     "name": "stdout",
     "output_type": "stream",
     "text": [
      "['J.SIMMONDS', 'Léo BERDEU', 'Maxime LAFAGE']\n",
      "['G.DREAN', 'Sireli MAQALA', 'Baptiste COUILLOUD']\n",
      "['J.SIMMONDS', 'Maxime LAFAGE', 'Louis CARBONEL']\n",
      "['J.MALLIA', 'Maxime LUCU', 'Thibault DAUBAGNA']\n",
      "['F.GORRISSEN', 'Joe SIMMONDS', 'Thomas CEYTE']\n",
      "['T.RAMOS', 'Nolann LE GARREC', 'Léo BERDEU']\n",
      "['C.WOKI', 'Apisai NAQALEVU', 'Levan CHILACHAVA']\n"
     ]
    }
   ],
   "source": [
    "fn_top_3()"
   ]
  }
 ],
 "metadata": {
  "kernelspec": {
   "display_name": "Python 3",
   "language": "python",
   "name": "python3"
  },
  "language_info": {
   "codemirror_mode": {
    "name": "ipython",
    "version": 3
   },
   "file_extension": ".py",
   "mimetype": "text/x-python",
   "name": "python",
   "nbconvert_exporter": "python",
   "pygments_lexer": "ipython3",
   "version": "3.11.9"
  }
 },
 "nbformat": 4,
 "nbformat_minor": 2
}
