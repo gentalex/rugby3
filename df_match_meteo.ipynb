{
 "cells": [
  {
   "cell_type": "code",
   "execution_count": 1,
   "metadata": {},
   "outputs": [],
   "source": [
    "import pandas as pd"
   ]
  },
  {
   "cell_type": "code",
   "execution_count": 13,
   "metadata": {},
   "outputs": [],
   "source": [
    "dico_club_clean = {'Lyon':'LOU Rugby',\n",
    "                'Toulon':'RC Toulon',\n",
    "                'Pau':'Section Paloise',\n",
    "                'Clermont':'ASM Clermont',\n",
    "                'Bayonne':'Aviron Bayonnais',\n",
    "                'Bordeaux-Bègles':'Union Bordeaux-Bègles',\n",
    "                'Castres':'Castres Olympique',\n",
    "                'Montpellier':'Montpellier Hérault Rugby',\n",
    "                'Stade Toulousain':'Stade Toulousain',\n",
    "                'Racing 92':'Racing 92',\n",
    "                'La Rochelle':'Stade Rochelais',\n",
    "                'Brive':'CA Brive',\n",
    "                'Agen':'SU Agen',\n",
    "                'Stade Français':'Stade Français Paris',\n",
    "                'Biarritz':'Biarritz Olympique PB',\n",
    "                'Perpignan':'USA Perpignan',\n",
    "                'Oyonnax':'Oyonnax Rugby',\n",
    "                'Vannes':'RC Vannes',\n",
    "                'france':'France'}"
   ]
  },
  {
   "cell_type": "code",
   "execution_count": 23,
   "metadata": {},
   "outputs": [],
   "source": [
    "dico_id_club = {'LOU Rugby':1,\n",
    "                'RC Toulon':2,\n",
    "                'Section Paloise':3,\n",
    "                'ASM Clermont':4,\n",
    "                'Aviron Bayonnais':5,\n",
    "                'Union Bordeaux-Bègles':6,\n",
    "                'Castres Olympique':7,\n",
    "                'Montpellier Hérault Rugby':8,\n",
    "                'Stade Toulousain':9,\n",
    "                'Racing 92':10,\n",
    "                'Stade Rochelais':11,\n",
    "                'CA Brive':12,\n",
    "                'SU Agen':13,\n",
    "                'Stade Français Paris':14,\n",
    "                'Biarritz Olympique PB':15,\n",
    "                'USA Perpignan':16,\n",
    "                'Oyonnax Rugby':17,\n",
    "                'RC Vannes':18,\n",
    "                'France':19}"
   ]
  },
  {
   "cell_type": "code",
   "execution_count": 2,
   "metadata": {},
   "outputs": [],
   "source": [
    "df_aller=pd.read_csv(\"match_aller2024-2025.csv\")\n",
    "\n",
    "df_retour=pd.read_csv(\"match_retour_2024-2025.csv\")"
   ]
  },
  {
   "cell_type": "code",
   "execution_count": 6,
   "metadata": {},
   "outputs": [
    {
     "data": {
      "application/vnd.microsoft.datawrangler.viewer.v0+json": {
       "columns": [
        {
         "name": "index",
         "rawType": "int64",
         "type": "integer"
        },
        {
         "name": "date",
         "rawType": "object",
         "type": "string"
        },
        {
         "name": "heure",
         "rawType": "object",
         "type": "string"
        },
        {
         "name": "domicile",
         "rawType": "object",
         "type": "string"
        },
        {
         "name": "extérieur",
         "rawType": "object",
         "type": "string"
        }
       ],
       "conversionMethod": "pd.DataFrame",
       "ref": "5bf90dfc-e4b2-4228-920d-cbf00101b359",
       "rows": [
        [
         "0",
         "04/01/2025",
         "14:30",
         "Toulon",
         "Racing 92"
        ],
        [
         "1",
         "04/01/2025",
         "16:30",
         "Castres",
         "Pau"
        ],
        [
         "2",
         "04/01/2025",
         "16:30",
         "Lyon",
         "Perpignan"
        ],
        [
         "3",
         "04/01/2025",
         "16:30",
         "Montpellier",
         "Bayonne"
        ],
        [
         "4",
         "04/01/2025",
         "16:30",
         "Stade Français",
         "Bordeaux-Bègles"
        ],
        [
         "5",
         "04/01/2025",
         "21:05",
         "La Rochelle",
         "Stade Toulousain"
        ],
        [
         "6",
         "05/01/2025",
         "21:05",
         "Vannes",
         "Clermont"
        ],
        [
         "7",
         "25/01/2025",
         "14:00",
         "Stade Toulousain",
         "Montpellier"
        ],
        [
         "8",
         "25/01/2025",
         "16:00",
         "Racing 92",
         "Castres"
        ],
        [
         "9",
         "25/01/2025",
         "16:00",
         "Vannes",
         "Stade Français"
        ],
        [
         "10",
         "25/01/2025",
         "16:00",
         "Pau",
         "Clermont"
        ],
        [
         "11",
         "25/01/2025",
         "16:00",
         "Perpignan",
         "Bayonne"
        ],
        [
         "12",
         "25/01/2025",
         "21:15",
         "Bordeaux-Bègles",
         "Lyon"
        ],
        [
         "13",
         "26/01/2025",
         "21:05",
         "Toulon",
         "La Rochelle"
        ],
        [
         "14",
         "15/02/2025",
         "14:30",
         "Bayonne",
         "Bordeaux-Bègles"
        ],
        [
         "15",
         "15/02/2025",
         "16:30",
         "Lyon",
         "La Rochelle"
        ],
        [
         "16",
         "15/02/2025",
         "16:30",
         "Racing 92",
         "Vannes"
        ],
        [
         "17",
         "15/02/2025",
         "16:30",
         "Stade Français",
         "Pau"
        ],
        [
         "18",
         "15/02/2025",
         "16:30",
         "Perpignan",
         "Castres"
        ],
        [
         "19",
         "15/02/2025",
         "21:05",
         "Montpellier",
         "Toulon"
        ],
        [
         "20",
         "16/02/2025",
         "21:05",
         "Clermont",
         "Stade Toulousain"
        ],
        [
         "21",
         "22/02/2025",
         "14:30",
         "Castres",
         "Lyon"
        ],
        [
         "22",
         "22/02/2025",
         "16:30",
         "Toulon",
         "Stade Français"
        ],
        [
         "23",
         "22/02/2025",
         "16:30",
         "Vannes",
         "Montpellier"
        ],
        [
         "24",
         "22/02/2025",
         "16:30",
         "Pau",
         "Perpignan"
        ],
        [
         "25",
         "22/02/2025",
         "16:30",
         "La Rochelle",
         "Racing 92"
        ],
        [
         "26",
         "22/02/2025",
         "21:05",
         "Stade Toulousain",
         "Bayonne"
        ],
        [
         "27",
         "23/02/2025",
         "21:05",
         "Bordeaux-Bègles",
         "Clermont"
        ],
        [
         "28",
         "01/03/2025",
         "14:30",
         "Stade Français",
         "La Rochelle"
        ],
        [
         "29",
         "01/03/2025",
         "16:30",
         "Lyon",
         "Toulon"
        ],
        [
         "30",
         "01/03/2025",
         "16:30",
         "Montpellier",
         "Castres"
        ],
        [
         "31",
         "01/03/2025",
         "16:30",
         "Racing 92",
         "Pau"
        ],
        [
         "32",
         "01/03/2025",
         "16:30",
         "Stade Toulousain",
         "Vannes"
        ],
        [
         "33",
         "01/03/2025",
         "21:05",
         "Perpignan",
         "Bordeaux-Bègles"
        ],
        [
         "34",
         "02/03/2025",
         "21:05",
         "Bayonne",
         "Clermont"
        ],
        [
         "35",
         "22/03/2025",
         "14:30",
         "Clermont",
         "Racing 92"
        ],
        [
         "36",
         "22/03/2025",
         "16:30",
         "Lyon",
         "Vannes"
        ],
        [
         "37",
         "22/03/2025",
         "16:30",
         "Toulon",
         "Perpignan"
        ],
        [
         "38",
         "22/03/2025",
         "16:30",
         "Pau",
         "Montpellier"
        ],
        [
         "39",
         "22/03/2025",
         "16:30",
         "Stade Français",
         "Bayonne"
        ],
        [
         "40",
         "22/03/2025",
         "16:30",
         "La Rochelle",
         "Castres"
        ],
        [
         "41",
         "22/03/2025",
         "16:30",
         "Bordeaux-Bègles",
         "Stade Toulousain"
        ],
        [
         "42",
         "29/03/2025",
         "14:30",
         "Clermont",
         "La Rochelle"
        ],
        [
         "43",
         "29/03/2025",
         "16:30",
         "Bayonne",
         "Lyon"
        ],
        [
         "44",
         "29/03/2025",
         "16:30",
         "Castres",
         "Toulon"
        ],
        [
         "45",
         "29/03/2025",
         "16:30",
         "Montpellier",
         "Stade Français"
        ],
        [
         "46",
         "29/03/2025",
         "16:30",
         "Racing 92",
         "Bordeaux-Bègles"
        ],
        [
         "47",
         "29/03/2025",
         "16:30",
         "Vannes",
         "Perpignan"
        ],
        [
         "48",
         "29/03/2025",
         "16:30",
         "Stade Toulousain",
         "Pau"
        ],
        [
         "49",
         "19/04/2025",
         "14:30",
         "Castres",
         "Vannes"
        ]
       ],
       "shape": {
        "columns": 4,
        "rows": 91
       }
      },
      "text/html": [
       "<div>\n",
       "<style scoped>\n",
       "    .dataframe tbody tr th:only-of-type {\n",
       "        vertical-align: middle;\n",
       "    }\n",
       "\n",
       "    .dataframe tbody tr th {\n",
       "        vertical-align: top;\n",
       "    }\n",
       "\n",
       "    .dataframe thead th {\n",
       "        text-align: right;\n",
       "    }\n",
       "</style>\n",
       "<table border=\"1\" class=\"dataframe\">\n",
       "  <thead>\n",
       "    <tr style=\"text-align: right;\">\n",
       "      <th></th>\n",
       "      <th>date</th>\n",
       "      <th>heure</th>\n",
       "      <th>domicile</th>\n",
       "      <th>extérieur</th>\n",
       "    </tr>\n",
       "  </thead>\n",
       "  <tbody>\n",
       "    <tr>\n",
       "      <th>0</th>\n",
       "      <td>04/01/2025</td>\n",
       "      <td>14:30</td>\n",
       "      <td>Toulon</td>\n",
       "      <td>Racing 92</td>\n",
       "    </tr>\n",
       "    <tr>\n",
       "      <th>1</th>\n",
       "      <td>04/01/2025</td>\n",
       "      <td>16:30</td>\n",
       "      <td>Castres</td>\n",
       "      <td>Pau</td>\n",
       "    </tr>\n",
       "    <tr>\n",
       "      <th>2</th>\n",
       "      <td>04/01/2025</td>\n",
       "      <td>16:30</td>\n",
       "      <td>Lyon</td>\n",
       "      <td>Perpignan</td>\n",
       "    </tr>\n",
       "    <tr>\n",
       "      <th>3</th>\n",
       "      <td>04/01/2025</td>\n",
       "      <td>16:30</td>\n",
       "      <td>Montpellier</td>\n",
       "      <td>Bayonne</td>\n",
       "    </tr>\n",
       "    <tr>\n",
       "      <th>4</th>\n",
       "      <td>04/01/2025</td>\n",
       "      <td>16:30</td>\n",
       "      <td>Stade Français</td>\n",
       "      <td>Bordeaux-Bègles</td>\n",
       "    </tr>\n",
       "    <tr>\n",
       "      <th>...</th>\n",
       "      <td>...</td>\n",
       "      <td>...</td>\n",
       "      <td>...</td>\n",
       "      <td>...</td>\n",
       "    </tr>\n",
       "    <tr>\n",
       "      <th>86</th>\n",
       "      <td>07/06/2025</td>\n",
       "      <td>21:05</td>\n",
       "      <td>Montpellier</td>\n",
       "      <td>Clermont</td>\n",
       "    </tr>\n",
       "    <tr>\n",
       "      <th>87</th>\n",
       "      <td>07/06/2025</td>\n",
       "      <td>21:05</td>\n",
       "      <td>Pau</td>\n",
       "      <td>La Rochelle</td>\n",
       "    </tr>\n",
       "    <tr>\n",
       "      <th>88</th>\n",
       "      <td>07/06/2025</td>\n",
       "      <td>21:05</td>\n",
       "      <td>Stade Français</td>\n",
       "      <td>Castres</td>\n",
       "    </tr>\n",
       "    <tr>\n",
       "      <th>89</th>\n",
       "      <td>07/06/2025</td>\n",
       "      <td>21:05</td>\n",
       "      <td>Bordeaux-Bègles</td>\n",
       "      <td>Vannes</td>\n",
       "    </tr>\n",
       "    <tr>\n",
       "      <th>90</th>\n",
       "      <td>07/06/2025</td>\n",
       "      <td>21:05</td>\n",
       "      <td>Perpignan</td>\n",
       "      <td>Stade Toulousain</td>\n",
       "    </tr>\n",
       "  </tbody>\n",
       "</table>\n",
       "<p>91 rows × 4 columns</p>\n",
       "</div>"
      ],
      "text/plain": [
       "          date  heure         domicile         extérieur\n",
       "0   04/01/2025  14:30           Toulon         Racing 92\n",
       "1   04/01/2025  16:30          Castres               Pau\n",
       "2   04/01/2025  16:30             Lyon         Perpignan\n",
       "3   04/01/2025  16:30      Montpellier           Bayonne\n",
       "4   04/01/2025  16:30   Stade Français   Bordeaux-Bègles\n",
       "..         ...    ...              ...               ...\n",
       "86  07/06/2025  21:05      Montpellier          Clermont\n",
       "87  07/06/2025  21:05              Pau       La Rochelle\n",
       "88  07/06/2025  21:05   Stade Français           Castres\n",
       "89  07/06/2025  21:05  Bordeaux-Bègles            Vannes\n",
       "90  07/06/2025  21:05        Perpignan  Stade Toulousain\n",
       "\n",
       "[91 rows x 4 columns]"
      ]
     },
     "execution_count": 6,
     "metadata": {},
     "output_type": "execute_result"
    }
   ],
   "source": [
    "df_retour"
   ]
  },
  {
   "cell_type": "code",
   "execution_count": 8,
   "metadata": {},
   "outputs": [],
   "source": [
    "df_match=pd.concat([df_aller,df_retour])"
   ]
  },
  {
   "cell_type": "code",
   "execution_count": null,
   "metadata": {},
   "outputs": [],
   "source": [
    "df_match[\"domicile\"]=df_match[\"domicile\"].apply(lambda x : dico_club_clean[x])\n",
    "df_match[\"extérieur\"]=df_match[\"extérieur\"].apply(lambda x : dico_club_clean[x])"
   ]
  },
  {
   "cell_type": "code",
   "execution_count": 26,
   "metadata": {},
   "outputs": [],
   "source": [
    "df_match[\"ID_equipes_dom\"]=df_match[\"domicile\"].apply(lambda x : dico_id_club[x])"
   ]
  },
  {
   "cell_type": "code",
   "execution_count": 30,
   "metadata": {},
   "outputs": [],
   "source": [
    "df_match[\"ID_equipes_ext\"]=df_match[\"extérieur\"].apply(lambda x : dico_id_club[x])"
   ]
  },
  {
   "cell_type": "code",
   "execution_count": 31,
   "metadata": {},
   "outputs": [
    {
     "data": {
      "application/vnd.microsoft.datawrangler.viewer.v0+json": {
       "columns": [
        {
         "name": "index",
         "rawType": "int64",
         "type": "integer"
        },
        {
         "name": "date",
         "rawType": "object",
         "type": "string"
        },
        {
         "name": "heure",
         "rawType": "object",
         "type": "string"
        },
        {
         "name": "domicile",
         "rawType": "object",
         "type": "string"
        },
        {
         "name": "extérieur",
         "rawType": "object",
         "type": "string"
        },
        {
         "name": "ID_equipes_dom",
         "rawType": "int64",
         "type": "integer"
        },
        {
         "name": "ID_equipes_ext",
         "rawType": "int64",
         "type": "integer"
        }
       ],
       "conversionMethod": "pd.DataFrame",
       "ref": "60b50384-7cdb-4b15-8b24-38050c5a5085",
       "rows": [
        [
         "0",
         "07/09/2024",
         "14:30",
         "Aviron Bayonnais",
         "USA Perpignan",
         "5",
         "16"
        ],
        [
         "1",
         "07/09/2024",
         "16:30",
         "ASM Clermont",
         "Section Paloise",
         "4",
         "3"
        ],
        [
         "2",
         "07/09/2024",
         "16:30",
         "Castres Olympique",
         "Racing 92",
         "7",
         "10"
        ],
        [
         "3",
         "07/09/2024",
         "16:30",
         "Montpellier Hérault Rugby",
         "LOU Rugby",
         "8",
         "1"
        ],
        [
         "4",
         "07/09/2024",
         "21:05",
         "Union Bordeaux-Bègles",
         "Stade Français Paris",
         "6",
         "14"
        ],
        [
         "5",
         "08/09/2024",
         "17:00",
         "Stade Rochelais",
         "RC Toulon",
         "11",
         "2"
        ],
        [
         "6",
         "08/09/2024",
         "21:05",
         "RC Vannes",
         "Stade Toulousain",
         "18",
         "9"
        ],
        [
         "7",
         "14/09/2024",
         "14:30",
         "RC Toulon",
         "Castres Olympique",
         "2",
         "7"
        ],
        [
         "8",
         "14/09/2024",
         "14:30",
         "Stade Français Paris",
         "RC Vannes",
         "14",
         "18"
        ],
        [
         "9",
         "14/09/2024",
         "16:30",
         "Racing 92",
         "ASM Clermont",
         "10",
         "4"
        ],
        [
         "10",
         "14/09/2024",
         "16:30",
         "Section Paloise",
         "Aviron Bayonnais",
         "3",
         "5"
        ],
        [
         "11",
         "14/09/2024",
         "16:30",
         "USA Perpignan",
         "Montpellier Hérault Rugby",
         "16",
         "8"
        ],
        [
         "12",
         "14/09/2024",
         "21:05",
         "LOU Rugby",
         "Union Bordeaux-Bègles",
         "1",
         "6"
        ],
        [
         "13",
         "15/09/2024",
         "21:05",
         "Stade Toulousain",
         "Stade Rochelais",
         "9",
         "11"
        ],
        [
         "14",
         "21/09/2024",
         "14:30",
         "Montpellier Hérault Rugby",
         "Stade Toulousain",
         "8",
         "9"
        ],
        [
         "15",
         "21/09/2024",
         "16:30",
         "ASM Clermont",
         "Aviron Bayonnais",
         "4",
         "5"
        ],
        [
         "16",
         "21/09/2024",
         "16:30",
         "Castres Olympique",
         "USA Perpignan",
         "7",
         "16"
        ],
        [
         "17",
         "21/09/2024",
         "16:30",
         "RC Vannes",
         "LOU Rugby",
         "18",
         "1"
        ],
        [
         "18",
         "21/09/2024",
         "16:30",
         "Stade Rochelais",
         "Section Paloise",
         "11",
         "3"
        ],
        [
         "19",
         "21/09/2024",
         "21:05",
         "Union Bordeaux-Bègles",
         "Racing 92",
         "6",
         "10"
        ],
        [
         "20",
         "22/09/2024",
         "21:05",
         "Stade Français Paris",
         "RC Toulon",
         "14",
         "2"
        ],
        [
         "21",
         "28/09/2024",
         "14:30",
         "USA Perpignan",
         "ASM Clermont",
         "16",
         "4"
        ],
        [
         "22",
         "28/09/2024",
         "16:30",
         "Aviron Bayonnais",
         "Montpellier Hérault Rugby",
         "5",
         "8"
        ],
        [
         "23",
         "28/09/2024",
         "16:30",
         "LOU Rugby",
         "Castres Olympique",
         "1",
         "7"
        ],
        [
         "24",
         "28/09/2024",
         "16:30",
         "Racing 92",
         "Stade Rochelais",
         "10",
         "11"
        ],
        [
         "25",
         "28/09/2024",
         "16:30",
         "RC Toulon",
         "RC Vannes",
         "2",
         "18"
        ],
        [
         "26",
         "28/09/2024",
         "21:05",
         "Section Paloise",
         "Stade Français Paris",
         "3",
         "14"
        ],
        [
         "27",
         "29/09/2024",
         "21:05",
         "Stade Toulousain",
         "Union Bordeaux-Bègles",
         "9",
         "6"
        ],
        [
         "28",
         "05/10/2024",
         "14:30",
         "RC Vannes",
         "Racing 92",
         "18",
         "10"
        ],
        [
         "29",
         "05/10/2024",
         "16:30",
         "Stade Français Paris",
         "Montpellier Hérault Rugby",
         "14",
         "8"
        ],
        [
         "30",
         "05/10/2024",
         "16:30",
         "Stade Rochelais",
         "LOU Rugby",
         "11",
         "1"
        ],
        [
         "31",
         "05/10/2024",
         "16:30",
         "Union Bordeaux-Bègles",
         "Aviron Bayonnais",
         "6",
         "5"
        ],
        [
         "32",
         "05/10/2024",
         "16:30",
         "USA Perpignan",
         "Section Paloise",
         "16",
         "3"
        ],
        [
         "33",
         "05/10/2024",
         "21:05",
         "Castres Olympique",
         "Stade Toulousain",
         "7",
         "9"
        ],
        [
         "34",
         "06/10/2024",
         "21:05",
         "ASM Clermont",
         "RC Toulon",
         "4",
         "2"
        ],
        [
         "35",
         "12/10/2024",
         "14:30",
         "Racing 92",
         "RC Toulon",
         "10",
         "2"
        ],
        [
         "36",
         "12/10/2024",
         "16:30",
         "Aviron Bayonnais",
         "Stade Rochelais",
         "5",
         "11"
        ],
        [
         "37",
         "12/10/2024",
         "16:30",
         "Montpellier Hérault Rugby",
         "RC Vannes",
         "8",
         "18"
        ],
        [
         "38",
         "12/10/2024",
         "16:30",
         "Section Paloise",
         "Castres Olympique",
         "3",
         "7"
        ],
        [
         "39",
         "12/10/2024",
         "16:30",
         "Union Bordeaux-Bègles",
         "USA Perpignan",
         "6",
         "16"
        ],
        [
         "40",
         "12/10/2024",
         "21:05",
         "Stade Toulousain",
         "ASM Clermont",
         "9",
         "4"
        ],
        [
         "41",
         "13/10/2024",
         "21:05",
         "LOU Rugby",
         "Stade Français Paris",
         "1",
         "14"
        ],
        [
         "42",
         "19/10/2024",
         "14:30",
         "Aviron Bayonnais",
         "Racing 92",
         "5",
         "10"
        ],
        [
         "43",
         "19/10/2024",
         "16:30",
         "ASM Clermont",
         "RC Vannes",
         "4",
         "18"
        ],
        [
         "44",
         "19/10/2024",
         "16:30",
         "Castres Olympique",
         "Stade Français Paris",
         "7",
         "14"
        ],
        [
         "45",
         "19/10/2024",
         "16:30",
         "RC Toulon",
         "Montpellier Hérault Rugby",
         "2",
         "8"
        ],
        [
         "46",
         "19/10/2024",
         "16:30",
         "USA Perpignan",
         "LOU Rugby",
         "16",
         "1"
        ],
        [
         "47",
         "19/10/2024",
         "21:05",
         "Section Paloise",
         "Stade Toulousain",
         "3",
         "9"
        ],
        [
         "48",
         "20/10/2024",
         "21:05",
         "Stade Rochelais",
         "Union Bordeaux-Bègles",
         "11",
         "6"
        ],
        [
         "49",
         "26/10/2024",
         "14:30",
         "Union Bordeaux-Bègles",
         "Section Paloise",
         "6",
         "3"
        ]
       ],
       "shape": {
        "columns": 6,
        "rows": 182
       }
      },
      "text/html": [
       "<div>\n",
       "<style scoped>\n",
       "    .dataframe tbody tr th:only-of-type {\n",
       "        vertical-align: middle;\n",
       "    }\n",
       "\n",
       "    .dataframe tbody tr th {\n",
       "        vertical-align: top;\n",
       "    }\n",
       "\n",
       "    .dataframe thead th {\n",
       "        text-align: right;\n",
       "    }\n",
       "</style>\n",
       "<table border=\"1\" class=\"dataframe\">\n",
       "  <thead>\n",
       "    <tr style=\"text-align: right;\">\n",
       "      <th></th>\n",
       "      <th>date</th>\n",
       "      <th>heure</th>\n",
       "      <th>domicile</th>\n",
       "      <th>extérieur</th>\n",
       "      <th>ID_equipes_dom</th>\n",
       "      <th>ID_equipes_ext</th>\n",
       "    </tr>\n",
       "  </thead>\n",
       "  <tbody>\n",
       "    <tr>\n",
       "      <th>0</th>\n",
       "      <td>07/09/2024</td>\n",
       "      <td>14:30</td>\n",
       "      <td>Aviron Bayonnais</td>\n",
       "      <td>USA Perpignan</td>\n",
       "      <td>5</td>\n",
       "      <td>16</td>\n",
       "    </tr>\n",
       "    <tr>\n",
       "      <th>1</th>\n",
       "      <td>07/09/2024</td>\n",
       "      <td>16:30</td>\n",
       "      <td>ASM Clermont</td>\n",
       "      <td>Section Paloise</td>\n",
       "      <td>4</td>\n",
       "      <td>3</td>\n",
       "    </tr>\n",
       "    <tr>\n",
       "      <th>2</th>\n",
       "      <td>07/09/2024</td>\n",
       "      <td>16:30</td>\n",
       "      <td>Castres Olympique</td>\n",
       "      <td>Racing 92</td>\n",
       "      <td>7</td>\n",
       "      <td>10</td>\n",
       "    </tr>\n",
       "    <tr>\n",
       "      <th>3</th>\n",
       "      <td>07/09/2024</td>\n",
       "      <td>16:30</td>\n",
       "      <td>Montpellier Hérault Rugby</td>\n",
       "      <td>LOU Rugby</td>\n",
       "      <td>8</td>\n",
       "      <td>1</td>\n",
       "    </tr>\n",
       "    <tr>\n",
       "      <th>4</th>\n",
       "      <td>07/09/2024</td>\n",
       "      <td>21:05</td>\n",
       "      <td>Union Bordeaux-Bègles</td>\n",
       "      <td>Stade Français Paris</td>\n",
       "      <td>6</td>\n",
       "      <td>14</td>\n",
       "    </tr>\n",
       "    <tr>\n",
       "      <th>...</th>\n",
       "      <td>...</td>\n",
       "      <td>...</td>\n",
       "      <td>...</td>\n",
       "      <td>...</td>\n",
       "      <td>...</td>\n",
       "      <td>...</td>\n",
       "    </tr>\n",
       "    <tr>\n",
       "      <th>86</th>\n",
       "      <td>07/06/2025</td>\n",
       "      <td>21:05</td>\n",
       "      <td>Montpellier Hérault Rugby</td>\n",
       "      <td>ASM Clermont</td>\n",
       "      <td>8</td>\n",
       "      <td>4</td>\n",
       "    </tr>\n",
       "    <tr>\n",
       "      <th>87</th>\n",
       "      <td>07/06/2025</td>\n",
       "      <td>21:05</td>\n",
       "      <td>Section Paloise</td>\n",
       "      <td>Stade Rochelais</td>\n",
       "      <td>3</td>\n",
       "      <td>11</td>\n",
       "    </tr>\n",
       "    <tr>\n",
       "      <th>88</th>\n",
       "      <td>07/06/2025</td>\n",
       "      <td>21:05</td>\n",
       "      <td>Stade Français Paris</td>\n",
       "      <td>Castres Olympique</td>\n",
       "      <td>14</td>\n",
       "      <td>7</td>\n",
       "    </tr>\n",
       "    <tr>\n",
       "      <th>89</th>\n",
       "      <td>07/06/2025</td>\n",
       "      <td>21:05</td>\n",
       "      <td>Union Bordeaux-Bègles</td>\n",
       "      <td>RC Vannes</td>\n",
       "      <td>6</td>\n",
       "      <td>18</td>\n",
       "    </tr>\n",
       "    <tr>\n",
       "      <th>90</th>\n",
       "      <td>07/06/2025</td>\n",
       "      <td>21:05</td>\n",
       "      <td>USA Perpignan</td>\n",
       "      <td>Stade Toulousain</td>\n",
       "      <td>16</td>\n",
       "      <td>9</td>\n",
       "    </tr>\n",
       "  </tbody>\n",
       "</table>\n",
       "<p>182 rows × 6 columns</p>\n",
       "</div>"
      ],
      "text/plain": [
       "          date  heure                   domicile             extérieur  \\\n",
       "0   07/09/2024  14:30           Aviron Bayonnais         USA Perpignan   \n",
       "1   07/09/2024  16:30               ASM Clermont       Section Paloise   \n",
       "2   07/09/2024  16:30          Castres Olympique             Racing 92   \n",
       "3   07/09/2024  16:30  Montpellier Hérault Rugby             LOU Rugby   \n",
       "4   07/09/2024  21:05      Union Bordeaux-Bègles  Stade Français Paris   \n",
       "..         ...    ...                        ...                   ...   \n",
       "86  07/06/2025  21:05  Montpellier Hérault Rugby          ASM Clermont   \n",
       "87  07/06/2025  21:05            Section Paloise       Stade Rochelais   \n",
       "88  07/06/2025  21:05       Stade Français Paris     Castres Olympique   \n",
       "89  07/06/2025  21:05      Union Bordeaux-Bègles             RC Vannes   \n",
       "90  07/06/2025  21:05              USA Perpignan      Stade Toulousain   \n",
       "\n",
       "    ID_equipes_dom  ID_equipes_ext  \n",
       "0                5              16  \n",
       "1                4               3  \n",
       "2                7              10  \n",
       "3                8               1  \n",
       "4                6              14  \n",
       "..             ...             ...  \n",
       "86               8               4  \n",
       "87               3              11  \n",
       "88              14               7  \n",
       "89               6              18  \n",
       "90              16               9  \n",
       "\n",
       "[182 rows x 6 columns]"
      ]
     },
     "execution_count": 31,
     "metadata": {},
     "output_type": "execute_result"
    }
   ],
   "source": [
    "df_match"
   ]
  }
 ],
 "metadata": {
  "kernelspec": {
   "display_name": "Python 3",
   "language": "python",
   "name": "python3"
  },
  "language_info": {
   "codemirror_mode": {
    "name": "ipython",
    "version": 3
   },
   "file_extension": ".py",
   "mimetype": "text/x-python",
   "name": "python",
   "nbconvert_exporter": "python",
   "pygments_lexer": "ipython3",
   "version": "3.11.9"
  }
 },
 "nbformat": 4,
 "nbformat_minor": 2
}
