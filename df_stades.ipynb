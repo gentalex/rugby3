{
 "cells": [
  {
   "cell_type": "code",
   "execution_count": 2,
   "metadata": {},
   "outputs": [],
   "source": [
    "import pandas as pd"
   ]
  },
  {
   "cell_type": "code",
   "execution_count": 12,
   "metadata": {},
   "outputs": [
    {
     "data": {
      "application/vnd.microsoft.datawrangler.viewer.v0+json": {
       "columns": [
        {
         "name": "index",
         "rawType": "object",
         "type": "string"
        },
        {
         "name": "Latitude",
         "rawType": "float64",
         "type": "float"
        },
        {
         "name": "Longitude",
         "rawType": "float64",
         "type": "float"
        },
        {
         "name": "Clubs",
         "rawType": "object",
         "type": "string"
        }
       ],
       "conversionMethod": "pd.DataFrame",
       "ref": "9a866d21-a84a-48e9-bde0-8ac6d999e838",
       "rows": [
        [
         "Stade Ernest-Wallon",
         "43.6198",
         "1.4093",
         "Toulouse"
        ],
        [
         "Stade Chaban-Delmas",
         "44.8297",
         "-0.595",
         "Union Bordeaux-Bègles"
        ],
        [
         "Paris La Défense Arena",
         "48.8924",
         "2.2255",
         "Racing 92"
        ],
        [
         "Stade Jean-Bouin",
         "48.8413",
         "2.2622",
         "Stade Français Paris"
        ],
        [
         "Stade de Gerland",
         "45.7256",
         "4.8318",
         "LOU Rugby"
        ],
        [
         "Stade Marcel-Michelin",
         "45.786",
         "3.109",
         "ASM Clermont"
        ],
        [
         "Stade Mayol",
         "43.1167",
         "5.931",
         "RC Toulon"
        ],
        [
         "Stade Marcel-Deflandre",
         "46.1667",
         "-1.1517",
         "Stade Rochelais"
        ],
        [
         "GGL Stadium",
         "43.5833",
         "3.848",
         "Montpellier Hérault Rugby"
        ],
        [
         "Stade Aimé-Giral",
         "42.7108",
         "2.8956",
         "CA Brive"
        ],
        [
         "Stade du Hameau",
         "43.2917",
         "-0.37",
         "Section Paloise"
        ],
        [
         "Stade Jean-Dauger",
         "43.4847",
         "-1.4672",
         "Aviron Bayonnais"
        ],
        [
         "Stade Pierre-Fabre",
         "43.6031",
         "2.2436",
         "Castres Olympique"
        ],
        [
         "Stade de la Rabine",
         "47.655",
         "-2.76",
         "RC Vannes"
        ],
        [
         "Stade Armandie",
         "44.2056",
         "0.6164",
         "SU Agen"
        ],
        [
         "Stade Charles-Mathon",
         "46.2097",
         "5.4842",
         "Oyonnax Rugby"
        ],
        [
         "Stade Aimé-Giral",
         "42.7028",
         "2.8908",
         "USA Perpignan"
        ],
        [
         "Stade Aguiléra",
         "43.4817",
         "-1.5614",
         "Biarritz Olympique"
        ]
       ],
       "shape": {
        "columns": 3,
        "rows": 18
       }
      },
      "text/html": [
       "<div>\n",
       "<style scoped>\n",
       "    .dataframe tbody tr th:only-of-type {\n",
       "        vertical-align: middle;\n",
       "    }\n",
       "\n",
       "    .dataframe tbody tr th {\n",
       "        vertical-align: top;\n",
       "    }\n",
       "\n",
       "    .dataframe thead th {\n",
       "        text-align: right;\n",
       "    }\n",
       "</style>\n",
       "<table border=\"1\" class=\"dataframe\">\n",
       "  <thead>\n",
       "    <tr style=\"text-align: right;\">\n",
       "      <th></th>\n",
       "      <th>Latitude</th>\n",
       "      <th>Longitude</th>\n",
       "      <th>Clubs</th>\n",
       "    </tr>\n",
       "  </thead>\n",
       "  <tbody>\n",
       "    <tr>\n",
       "      <th>Stade Ernest-Wallon</th>\n",
       "      <td>43.6198</td>\n",
       "      <td>1.4093</td>\n",
       "      <td>Toulouse</td>\n",
       "    </tr>\n",
       "    <tr>\n",
       "      <th>Stade Chaban-Delmas</th>\n",
       "      <td>44.8297</td>\n",
       "      <td>-0.5950</td>\n",
       "      <td>Union Bordeaux-Bègles</td>\n",
       "    </tr>\n",
       "    <tr>\n",
       "      <th>Paris La Défense Arena</th>\n",
       "      <td>48.8924</td>\n",
       "      <td>2.2255</td>\n",
       "      <td>Racing 92</td>\n",
       "    </tr>\n",
       "    <tr>\n",
       "      <th>Stade Jean-Bouin</th>\n",
       "      <td>48.8413</td>\n",
       "      <td>2.2622</td>\n",
       "      <td>Stade Français Paris</td>\n",
       "    </tr>\n",
       "    <tr>\n",
       "      <th>Stade de Gerland</th>\n",
       "      <td>45.7256</td>\n",
       "      <td>4.8318</td>\n",
       "      <td>LOU Rugby</td>\n",
       "    </tr>\n",
       "    <tr>\n",
       "      <th>Stade Marcel-Michelin</th>\n",
       "      <td>45.7860</td>\n",
       "      <td>3.1090</td>\n",
       "      <td>ASM Clermont</td>\n",
       "    </tr>\n",
       "    <tr>\n",
       "      <th>Stade Mayol</th>\n",
       "      <td>43.1167</td>\n",
       "      <td>5.9310</td>\n",
       "      <td>RC Toulon</td>\n",
       "    </tr>\n",
       "    <tr>\n",
       "      <th>Stade Marcel-Deflandre</th>\n",
       "      <td>46.1667</td>\n",
       "      <td>-1.1517</td>\n",
       "      <td>Stade Rochelais</td>\n",
       "    </tr>\n",
       "    <tr>\n",
       "      <th>GGL Stadium</th>\n",
       "      <td>43.5833</td>\n",
       "      <td>3.8480</td>\n",
       "      <td>Montpellier Hérault Rugby</td>\n",
       "    </tr>\n",
       "    <tr>\n",
       "      <th>Stade Aimé-Giral</th>\n",
       "      <td>42.7108</td>\n",
       "      <td>2.8956</td>\n",
       "      <td>CA Brive</td>\n",
       "    </tr>\n",
       "    <tr>\n",
       "      <th>Stade du Hameau</th>\n",
       "      <td>43.2917</td>\n",
       "      <td>-0.3700</td>\n",
       "      <td>Section Paloise</td>\n",
       "    </tr>\n",
       "    <tr>\n",
       "      <th>Stade Jean-Dauger</th>\n",
       "      <td>43.4847</td>\n",
       "      <td>-1.4672</td>\n",
       "      <td>Aviron Bayonnais</td>\n",
       "    </tr>\n",
       "    <tr>\n",
       "      <th>Stade Pierre-Fabre</th>\n",
       "      <td>43.6031</td>\n",
       "      <td>2.2436</td>\n",
       "      <td>Castres Olympique</td>\n",
       "    </tr>\n",
       "    <tr>\n",
       "      <th>Stade de la Rabine</th>\n",
       "      <td>47.6550</td>\n",
       "      <td>-2.7600</td>\n",
       "      <td>RC Vannes</td>\n",
       "    </tr>\n",
       "    <tr>\n",
       "      <th>Stade Armandie</th>\n",
       "      <td>44.2056</td>\n",
       "      <td>0.6164</td>\n",
       "      <td>SU Agen</td>\n",
       "    </tr>\n",
       "    <tr>\n",
       "      <th>Stade Charles-Mathon</th>\n",
       "      <td>46.2097</td>\n",
       "      <td>5.4842</td>\n",
       "      <td>Oyonnax Rugby</td>\n",
       "    </tr>\n",
       "    <tr>\n",
       "      <th>Stade Aimé-Giral</th>\n",
       "      <td>42.7028</td>\n",
       "      <td>2.8908</td>\n",
       "      <td>USA Perpignan</td>\n",
       "    </tr>\n",
       "    <tr>\n",
       "      <th>Stade Aguiléra</th>\n",
       "      <td>43.4817</td>\n",
       "      <td>-1.5614</td>\n",
       "      <td>Biarritz Olympique</td>\n",
       "    </tr>\n",
       "  </tbody>\n",
       "</table>\n",
       "</div>"
      ],
      "text/plain": [
       "                        Latitude  Longitude                      Clubs\n",
       "Stade Ernest-Wallon      43.6198     1.4093                   Toulouse\n",
       "Stade Chaban-Delmas      44.8297    -0.5950      Union Bordeaux-Bègles\n",
       "Paris La Défense Arena   48.8924     2.2255                  Racing 92\n",
       "Stade Jean-Bouin         48.8413     2.2622       Stade Français Paris\n",
       "Stade de Gerland         45.7256     4.8318                  LOU Rugby\n",
       "Stade Marcel-Michelin    45.7860     3.1090               ASM Clermont\n",
       "Stade Mayol              43.1167     5.9310                  RC Toulon\n",
       "Stade Marcel-Deflandre   46.1667    -1.1517            Stade Rochelais\n",
       "GGL Stadium              43.5833     3.8480  Montpellier Hérault Rugby\n",
       "Stade Aimé-Giral         42.7108     2.8956                   CA Brive\n",
       "Stade du Hameau          43.2917    -0.3700            Section Paloise\n",
       "Stade Jean-Dauger        43.4847    -1.4672           Aviron Bayonnais\n",
       "Stade Pierre-Fabre       43.6031     2.2436          Castres Olympique\n",
       "Stade de la Rabine       47.6550    -2.7600                  RC Vannes\n",
       "Stade Armandie           44.2056     0.6164                    SU Agen\n",
       "Stade Charles-Mathon     46.2097     5.4842              Oyonnax Rugby\n",
       "Stade Aimé-Giral         42.7028     2.8908              USA Perpignan\n",
       "Stade Aguiléra           43.4817    -1.5614         Biarritz Olympique"
      ]
     },
     "execution_count": 12,
     "metadata": {},
     "output_type": "execute_result"
    }
   ],
   "source": [
    "df_stades= pd.read_csv(\"stades_top14.csv\")\n",
    "\n",
    "df_stades.rename(columns={\"latitude\":\"Longitude\",\"Unnamed: 0\":\"Latitude\",\"longitude\":\"Clubs\"},inplace=True)\n",
    "df_stades"
   ]
  }
 ],
 "metadata": {
  "kernelspec": {
   "display_name": "Python 3",
   "language": "python",
   "name": "python3"
  },
  "language_info": {
   "codemirror_mode": {
    "name": "ipython",
    "version": 3
   },
   "file_extension": ".py",
   "mimetype": "text/x-python",
   "name": "python",
   "nbconvert_exporter": "python",
   "pygments_lexer": "ipython3",
   "version": "3.11.9"
  }
 },
 "nbformat": 4,
 "nbformat_minor": 2
}
