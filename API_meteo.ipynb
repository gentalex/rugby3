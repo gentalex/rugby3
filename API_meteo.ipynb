{
 "cells": [
  {
   "cell_type": "code",
   "execution_count": 3,
   "metadata": {},
   "outputs": [
    {
     "name": "stdout",
     "output_type": "stream",
     "text": [
      "Coordinates 52.52000045776367°N 13.419998168945312°E\n",
      "Elevation 38.0 m asl\n",
      "Timezone b'Europe/Berlin' b'GMT+1'\n",
      "Timezone difference to GMT+0 3600 s\n"
     ]
    },
    {
     "data": {
      "application/vnd.microsoft.datawrangler.viewer.v0+json": {
       "columns": [
        {
         "name": "index",
         "rawType": "int64",
         "type": "integer"
        },
        {
         "name": "date",
         "rawType": "datetime64[ns, UTC]",
         "type": "unknown"
        },
        {
         "name": "temperature_2m",
         "rawType": "float32",
         "type": "float"
        },
        {
         "name": "precipitation",
         "rawType": "float32",
         "type": "float"
        }
       ],
       "conversionMethod": "pd.DataFrame",
       "ref": "69f47284-3b37-4aa7-8351-23d5769e315f",
       "rows": [
        [
         "0",
         "2025-02-12 23:00:00+00:00",
         "-1.5545",
         "0.0"
        ],
        [
         "1",
         "2025-02-13 00:00:00+00:00",
         "-1.6545",
         "0.2"
        ],
        [
         "2",
         "2025-02-13 01:00:00+00:00",
         "-1.7045",
         "0.0"
        ],
        [
         "3",
         "2025-02-13 02:00:00+00:00",
         "-1.7045",
         "0.1"
        ],
        [
         "4",
         "2025-02-13 03:00:00+00:00",
         "-1.7544999",
         "0.2"
        ],
        [
         "5",
         "2025-02-13 04:00:00+00:00",
         "-1.7544999",
         "0.0"
        ],
        [
         "6",
         "2025-02-13 05:00:00+00:00",
         "-1.7544999",
         "0.0"
        ],
        [
         "7",
         "2025-02-13 06:00:00+00:00",
         "-1.8544999",
         "0.3"
        ],
        [
         "8",
         "2025-02-13 07:00:00+00:00",
         "-1.8045",
         "0.0"
        ],
        [
         "9",
         "2025-02-13 08:00:00+00:00",
         "-1.6545",
         "0.0"
        ],
        [
         "10",
         "2025-02-13 09:00:00+00:00",
         "-1.4045",
         "0.0"
        ],
        [
         "11",
         "2025-02-13 10:00:00+00:00",
         "-1.0545",
         "0.0"
        ],
        [
         "12",
         "2025-02-13 11:00:00+00:00",
         "-0.55450004",
         "0.0"
        ],
        [
         "13",
         "2025-02-13 12:00:00+00:00",
         "-0.55450004",
         "0.0"
        ],
        [
         "14",
         "2025-02-13 13:00:00+00:00",
         "-0.30449998",
         "0.0"
        ],
        [
         "15",
         "2025-02-13 14:00:00+00:00",
         "-0.15450001",
         "0.0"
        ],
        [
         "16",
         "2025-02-13 15:00:00+00:00",
         "-0.20449999",
         "0.0"
        ],
        [
         "17",
         "2025-02-13 16:00:00+00:00",
         "-0.30449998",
         "0.0"
        ],
        [
         "18",
         "2025-02-13 17:00:00+00:00",
         "-0.4545",
         "0.5"
        ],
        [
         "19",
         "2025-02-13 18:00:00+00:00",
         "-0.40449998",
         "0.4"
        ],
        [
         "20",
         "2025-02-13 19:00:00+00:00",
         "-0.40449998",
         "0.6"
        ],
        [
         "21",
         "2025-02-13 20:00:00+00:00",
         "-0.40449998",
         "0.6"
        ],
        [
         "22",
         "2025-02-13 21:00:00+00:00",
         "-0.40449998",
         "0.8"
        ],
        [
         "23",
         "2025-02-13 22:00:00+00:00",
         "-0.4545",
         "0.5"
        ],
        [
         "24",
         "2025-02-13 23:00:00+00:00",
         "-0.4545",
         "0.4"
        ],
        [
         "25",
         "2025-02-14 00:00:00+00:00",
         "-0.50450003",
         "0.4"
        ],
        [
         "26",
         "2025-02-14 01:00:00+00:00",
         "-0.6045",
         "0.5"
        ],
        [
         "27",
         "2025-02-14 02:00:00+00:00",
         "-0.7045",
         "0.4"
        ],
        [
         "28",
         "2025-02-14 03:00:00+00:00",
         "-0.75450003",
         "0.4"
        ],
        [
         "29",
         "2025-02-14 04:00:00+00:00",
         "-0.8545",
         "0.1"
        ],
        [
         "30",
         "2025-02-14 05:00:00+00:00",
         "-0.8545",
         "0.0"
        ],
        [
         "31",
         "2025-02-14 06:00:00+00:00",
         "-1.0044999",
         "0.0"
        ],
        [
         "32",
         "2025-02-14 07:00:00+00:00",
         "-1.2544999",
         "0.0"
        ],
        [
         "33",
         "2025-02-14 08:00:00+00:00",
         "-1.0545",
         "0.0"
        ],
        [
         "34",
         "2025-02-14 09:00:00+00:00",
         "-0.3545",
         "0.0"
        ],
        [
         "35",
         "2025-02-14 10:00:00+00:00",
         "0.4955",
         "0.0"
        ],
        [
         "36",
         "2025-02-14 11:00:00+00:00",
         "1.2455001",
         "0.0"
        ],
        [
         "37",
         "2025-02-14 12:00:00+00:00",
         "1.7955",
         "0.0"
        ],
        [
         "38",
         "2025-02-14 13:00:00+00:00",
         "2.1455",
         "0.0"
        ],
        [
         "39",
         "2025-02-14 14:00:00+00:00",
         "2.1955001",
         "0.0"
        ],
        [
         "40",
         "2025-02-14 15:00:00+00:00",
         "2.0455",
         "0.0"
        ],
        [
         "41",
         "2025-02-14 16:00:00+00:00",
         "1.4955001",
         "0.0"
        ],
        [
         "42",
         "2025-02-14 17:00:00+00:00",
         "0.8955",
         "0.0"
        ],
        [
         "43",
         "2025-02-14 18:00:00+00:00",
         "-0.20449999",
         "0.0"
        ],
        [
         "44",
         "2025-02-14 19:00:00+00:00",
         "-0.30449998",
         "0.0"
        ],
        [
         "45",
         "2025-02-14 20:00:00+00:00",
         "-0.4545",
         "0.0"
        ],
        [
         "46",
         "2025-02-14 21:00:00+00:00",
         "-0.4545",
         "0.0"
        ],
        [
         "47",
         "2025-02-14 22:00:00+00:00",
         "-0.50450003",
         "0.0"
        ],
        [
         "48",
         "2025-02-14 23:00:00+00:00",
         "-0.55450004",
         "0.0"
        ],
        [
         "49",
         "2025-02-15 00:00:00+00:00",
         "-0.7045",
         "0.0"
        ]
       ],
       "shape": {
        "columns": 3,
        "rows": 168
       }
      },
      "text/html": [
       "<div>\n",
       "<style scoped>\n",
       "    .dataframe tbody tr th:only-of-type {\n",
       "        vertical-align: middle;\n",
       "    }\n",
       "\n",
       "    .dataframe tbody tr th {\n",
       "        vertical-align: top;\n",
       "    }\n",
       "\n",
       "    .dataframe thead th {\n",
       "        text-align: right;\n",
       "    }\n",
       "</style>\n",
       "<table border=\"1\" class=\"dataframe\">\n",
       "  <thead>\n",
       "    <tr style=\"text-align: right;\">\n",
       "      <th></th>\n",
       "      <th>date</th>\n",
       "      <th>temperature_2m</th>\n",
       "      <th>precipitation</th>\n",
       "    </tr>\n",
       "  </thead>\n",
       "  <tbody>\n",
       "    <tr>\n",
       "      <th>0</th>\n",
       "      <td>2025-02-12 23:00:00+00:00</td>\n",
       "      <td>-1.5545</td>\n",
       "      <td>0.0</td>\n",
       "    </tr>\n",
       "    <tr>\n",
       "      <th>1</th>\n",
       "      <td>2025-02-13 00:00:00+00:00</td>\n",
       "      <td>-1.6545</td>\n",
       "      <td>0.2</td>\n",
       "    </tr>\n",
       "    <tr>\n",
       "      <th>2</th>\n",
       "      <td>2025-02-13 01:00:00+00:00</td>\n",
       "      <td>-1.7045</td>\n",
       "      <td>0.0</td>\n",
       "    </tr>\n",
       "    <tr>\n",
       "      <th>3</th>\n",
       "      <td>2025-02-13 02:00:00+00:00</td>\n",
       "      <td>-1.7045</td>\n",
       "      <td>0.1</td>\n",
       "    </tr>\n",
       "    <tr>\n",
       "      <th>4</th>\n",
       "      <td>2025-02-13 03:00:00+00:00</td>\n",
       "      <td>-1.7545</td>\n",
       "      <td>0.2</td>\n",
       "    </tr>\n",
       "    <tr>\n",
       "      <th>...</th>\n",
       "      <td>...</td>\n",
       "      <td>...</td>\n",
       "      <td>...</td>\n",
       "    </tr>\n",
       "    <tr>\n",
       "      <th>163</th>\n",
       "      <td>2025-02-19 18:00:00+00:00</td>\n",
       "      <td>-0.0305</td>\n",
       "      <td>0.0</td>\n",
       "    </tr>\n",
       "    <tr>\n",
       "      <th>164</th>\n",
       "      <td>2025-02-19 19:00:00+00:00</td>\n",
       "      <td>-0.4305</td>\n",
       "      <td>0.0</td>\n",
       "    </tr>\n",
       "    <tr>\n",
       "      <th>165</th>\n",
       "      <td>2025-02-19 20:00:00+00:00</td>\n",
       "      <td>-0.7805</td>\n",
       "      <td>0.0</td>\n",
       "    </tr>\n",
       "    <tr>\n",
       "      <th>166</th>\n",
       "      <td>2025-02-19 21:00:00+00:00</td>\n",
       "      <td>-1.1305</td>\n",
       "      <td>0.0</td>\n",
       "    </tr>\n",
       "    <tr>\n",
       "      <th>167</th>\n",
       "      <td>2025-02-19 22:00:00+00:00</td>\n",
       "      <td>-1.4805</td>\n",
       "      <td>0.0</td>\n",
       "    </tr>\n",
       "  </tbody>\n",
       "</table>\n",
       "<p>168 rows × 3 columns</p>\n",
       "</div>"
      ],
      "text/plain": [
       "                         date  temperature_2m  precipitation\n",
       "0   2025-02-12 23:00:00+00:00         -1.5545            0.0\n",
       "1   2025-02-13 00:00:00+00:00         -1.6545            0.2\n",
       "2   2025-02-13 01:00:00+00:00         -1.7045            0.0\n",
       "3   2025-02-13 02:00:00+00:00         -1.7045            0.1\n",
       "4   2025-02-13 03:00:00+00:00         -1.7545            0.2\n",
       "..                        ...             ...            ...\n",
       "163 2025-02-19 18:00:00+00:00         -0.0305            0.0\n",
       "164 2025-02-19 19:00:00+00:00         -0.4305            0.0\n",
       "165 2025-02-19 20:00:00+00:00         -0.7805            0.0\n",
       "166 2025-02-19 21:00:00+00:00         -1.1305            0.0\n",
       "167 2025-02-19 22:00:00+00:00         -1.4805            0.0\n",
       "\n",
       "[168 rows x 3 columns]"
      ]
     },
     "execution_count": 3,
     "metadata": {},
     "output_type": "execute_result"
    }
   ],
   "source": [
    "import openmeteo_requests\n",
    "\n",
    "import requests_cache\n",
    "import pandas as pd\n",
    "from retry_requests import retry\n",
    "\n",
    "# Setup the Open-Meteo API client with cache and retry on error\n",
    "cache_session = requests_cache.CachedSession('.cache', expire_after = 3600)\n",
    "retry_session = retry(cache_session, retries = 5, backoff_factor = 0.2)\n",
    "openmeteo = openmeteo_requests.Client(session = retry_session)\n",
    "\n",
    "# Make sure all required weather variables are listed here\n",
    "# The order of variables in hourly or daily is important to assign them correctly below\n",
    "url = \"https://api.open-meteo.com/v1/forecast\"\n",
    "params = {\n",
    "\t\"latitude\": 52.52,\n",
    "\t\"longitude\": 13.41,\n",
    "\t\"hourly\": [\"temperature_2m\", \"precipitation\"],\n",
    "\t\"timezone\": \"Europe/Berlin\"\n",
    "}\n",
    "responses = openmeteo.weather_api(url, params=params)\n",
    "\n",
    "# Process first location. Add a for-loop for multiple locations or weather models\n",
    "response = responses[0]\n",
    "print(f\"Coordinates {response.Latitude()}°N {response.Longitude()}°E\")\n",
    "print(f\"Elevation {response.Elevation()} m asl\")\n",
    "print(f\"Timezone {response.Timezone()} {response.TimezoneAbbreviation()}\")\n",
    "print(f\"Timezone difference to GMT+0 {response.UtcOffsetSeconds()} s\")\n",
    "\n",
    "# Process hourly data. The order of variables needs to be the same as requested.\n",
    "hourly = response.Hourly()\n",
    "hourly_temperature_2m = hourly.Variables(0).ValuesAsNumpy()\n",
    "hourly_precipitation = hourly.Variables(1).ValuesAsNumpy()\n",
    "\n",
    "hourly_data = {\"date\": pd.date_range(\n",
    "\tstart = pd.to_datetime(hourly.Time(), unit = \"s\", utc = True),\n",
    "\tend = pd.to_datetime(hourly.TimeEnd(), unit = \"s\", utc = True),\n",
    "\tfreq = pd.Timedelta(seconds = hourly.Interval()),\n",
    "\tinclusive = \"left\"\n",
    ")}\n",
    "\n",
    "hourly_data[\"temperature_2m\"] = hourly_temperature_2m\n",
    "hourly_data[\"precipitation\"] = hourly_precipitation\n",
    "\n",
    "hourly_dataframe = pd.DataFrame(data = hourly_data)\n",
    "hourly_dataframe\n"
   ]
  }
 ],
 "metadata": {
  "kernelspec": {
   "display_name": "Python 3",
   "language": "python",
   "name": "python3"
  },
  "language_info": {
   "codemirror_mode": {
    "name": "ipython",
    "version": 3
   },
   "file_extension": ".py",
   "mimetype": "text/x-python",
   "name": "python",
   "nbconvert_exporter": "python",
   "pygments_lexer": "ipython3",
   "version": "3.11.9"
  }
 },
 "nbformat": 4,
 "nbformat_minor": 2
}
