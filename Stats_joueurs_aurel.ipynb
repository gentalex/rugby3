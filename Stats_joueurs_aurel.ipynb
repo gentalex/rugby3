{
 "cells": [
  {
   "cell_type": "code",
   "execution_count": 2,
   "metadata": {},
   "outputs": [],
   "source": [
    "from bs4 import BeautifulSoup\n",
    "import requests\n",
    "import re\n",
    "import pandas"
   ]
  },
  {
   "cell_type": "code",
   "execution_count": null,
   "metadata": {},
   "outputs": [],
   "source": [
    "url = requests.get('https://top14.lnr.fr/statistiques/joueurs')\n",
    "soup = BeautifulSoup(url.text, 'html.parser')"
   ]
  },
  {
   "cell_type": "code",
   "execution_count": 4,
   "metadata": {},
   "outputs": [
    {
     "data": {
      "text/plain": [
       "<Response [200]>"
      ]
     },
     "execution_count": 4,
     "metadata": {},
     "output_type": "execute_result"
    }
   ],
   "source": [
    "url"
   ]
  },
  {
   "cell_type": "code",
   "execution_count": 5,
   "metadata": {},
   "outputs": [],
   "source": [
    "# print(url.text)"
   ]
  },
  {
   "cell_type": "code",
   "execution_count": null,
   "metadata": {},
   "outputs": [],
   "source": []
  },
  {
   "cell_type": "code",
   "execution_count": 7,
   "metadata": {},
   "outputs": [],
   "source": [
    "# soup"
   ]
  },
  {
   "cell_type": "code",
   "execution_count": 8,
   "metadata": {},
   "outputs": [],
   "source": [
    "# # FONCTIONNE\n",
    "# # RECUPERATION DES TITRES DES DE CHAQUE STATS AINSI QUE LES 3 MEILLEURS JOUEURS\n",
    "\n",
    "# soup.find_all('div', {'class': 'season-top-block__wrapper'})\n",
    "\n",
    "# # 1ere boucle\n",
    "# for title in soup.find_all('div', {'class': 'season-top-block__wrapper'}):\n",
    "#     print(title.find_all('h3')[0].get_text())\n",
    "\n",
    "# # 2 eme boucle    \n",
    "#     for player in range(len(ele.find_all('a', {'class':'season-top-line__name'}))):\n",
    "#         print(title.find_all('a', {'class':'season-top-line__name'})[player].get_text().strip())\n"
   ]
  },
  {
   "cell_type": "markdown",
   "metadata": {},
   "source": [
    "# a transformer en fonction"
   ]
  },
  {
   "cell_type": "code",
   "execution_count": null,
   "metadata": {},
   "outputs": [
    {
     "name": "stdout",
     "output_type": "stream",
     "text": [
      "['L.BERDEU', 'Joe SIMMONDS', 'Maxime LAFAGE']\n",
      "['G.DREAN', 'Sireli MAQALA', 'Baptiste COUILLOUD']\n",
      "['J.SIMMONDS', 'Maxime LAFAGE', 'Louis CARBONEL']\n",
      "['T.DAUBAGNA', 'Zack HENRY', 'Maxime LUCU']\n",
      "['J.TUISOVA', 'Francisco GORRISSEN', 'Joe SIMMONDS']\n",
      "['T.RAMOS', 'Valentin DELPY', 'Nolann LE GARREC']\n",
      "['C.WOKI', 'Apisai NAQALEVU', 'Geoffrey PALIS']\n"
     ]
    }
   ],
   "source": [
    "url = requests.get('https://top14.lnr.fr/statistiques/joueurs')\n",
    "soup = BeautifulSoup(url.text, 'html.parser')\n",
    "\n",
    "# Initialiser des listes vides pour chaque catégorie\n",
    "meilleurs_real = []\n",
    "meilleurs_marqueur_essais = []\n",
    "meilleurs_marqueur_drops = []\n",
    "meilleurs_taux_transfo = []\n",
    "temps_de_jeu = []\n",
    "moyenne_points_match = []\n",
    "nombre_cartons = []\n",
    "\n",
    "# je recherche via les balises les informations\n",
    "for title in soup.find_all('div', {'class': 'season-top-block__wrapper'}):\n",
    "    # je recherche tous les titres des catégories\n",
    "    # le titre correspond à chaque catégorie recherchée\n",
    "    titre = title.find('h3').get_text().strip()\n",
    "    \n",
    "    # récupération des joueurs popur chaque liste\n",
    "    # pour chaque joueurs depuis ma soup via find_all (balise et class), je récupère leurs noms avec get_text() et .strip() pour supprimer les espaces\n",
    "    player = [player.get_text().strip() for player in title.find_all('a', {'class': 'season-top-line__name'})]\n",
    "\n",
    "    # associer chaque joueurs à la liste correspondantes avec des conditions \n",
    "    if titre == \"Meilleur réalisateur\":\n",
    "        meilleurs_real = player\n",
    "    elif titre == \"Meilleur marqueur d'essais\":\n",
    "        meilleurs_marqueur_essais = player\n",
    "    elif titre == \"Meilleur marqueur de drops\":\n",
    "        meilleurs_marqueur_drops = player\n",
    "    elif titre == \"Meilleur taux de transfo\":\n",
    "        meilleurs_taux_transfo = player\n",
    "    elif titre == \"Temps de jeu\":\n",
    "        temps_de_jeu = player\n",
    "    elif titre == \"Moyenne de points par match\":\n",
    "        moyenne_points_match = player\n",
    "    elif titre == \"Nombre de cartons\":\n",
    "        nombre_cartons = player\n",
    "\n",
    "all_list = [meilleurs_real, meilleurs_marqueur_essais, meilleurs_marqueur_drops, meilleurs_taux_transfo, temps_de_jeu, moyenne_points_match, nombre_cartons]\n",
    "\n",
    "for list in all_list:\n",
    "    list[0] = list[0].replace('\\xa0', \"\")\n",
    "    print(list)"
   ]
  },
  {
   "cell_type": "code",
   "execution_count": 10,
   "metadata": {},
   "outputs": [],
   "source": [
    "# print(meilleurs_real)\n",
    "# print(meilleurs_marqueur_essais)\n",
    "# print(meilleurs_marqueur_drops)\n",
    "# print(meilleurs_taux_transfo)\n",
    "# print(temps_de_jeu)\n",
    "# print(moyenne_points_match)\n",
    "# print(nombre_cartons)"
   ]
  },
  {
   "cell_type": "code",
   "execution_count": 11,
   "metadata": {},
   "outputs": [],
   "source": [
    "# meilleurs_real[0].replace('\\xa0', \"\")"
   ]
  },
  {
   "cell_type": "code",
   "execution_count": 12,
   "metadata": {},
   "outputs": [],
   "source": [
    "# all_list = [meilleurs_real, meilleurs_marqueur_essais, meilleurs_marqueur_drops, meilleurs_taux_transfo, temps_de_jeu, moyenne_points_match, nombre_cartons]\n",
    "\n",
    "# for list in all_list:\n",
    "#     list[0] = list[0].replace('\\xa0', \"\")\n",
    "#     print(list)"
   ]
  },
  {
   "cell_type": "markdown",
   "metadata": {},
   "source": [
    "# CREATION DE LA FONCTION TOP 3"
   ]
  },
  {
   "cell_type": "code",
   "execution_count": 13,
   "metadata": {},
   "outputs": [],
   "source": [
    "def fn_top_3():\n",
    "    # Initialiser des listes vides pour chaque catégorie\n",
    "    meilleurs_real = []\n",
    "    meilleurs_marqueur_essais = []\n",
    "    meilleurs_marqueur_drops = []\n",
    "    meilleurs_taux_transfo = []\n",
    "    temps_de_jeu = []\n",
    "    moyenne_points_match = []\n",
    "    nombre_cartons = []\n",
    "\n",
    "    # je recherche via les balises les informations\n",
    "    for title in soup.find_all('div', {'class': 'season-top-block__wrapper'}):\n",
    "        # je recherche tous les titres des catégories\n",
    "        # le titre correspond à chaque catégorie recherchée\n",
    "        titre = title.find('h3').get_text().strip()\n",
    "        \n",
    "        # récupération des joueurs popur chaque liste\n",
    "        # pour chaque joueurs depuis ma soup via find_all (balise et class), je récupère leurs noms avec get_text() et .strip() pour supprimer les espaces\n",
    "        player = [player.get_text().strip() for player in title.find_all('a', {'class': 'season-top-line__name'})]\n",
    "\n",
    "        # associer chaque joueurs à la liste correspondantes avec des conditions \n",
    "        if titre == \"Meilleur réalisateur\":\n",
    "            meilleurs_real = player\n",
    "        elif titre == \"Meilleur marqueur d'essais\":\n",
    "            meilleurs_marqueur_essais = player\n",
    "        elif titre == \"Meilleur marqueur de drops\":\n",
    "            meilleurs_marqueur_drops = player\n",
    "        elif titre == \"Meilleur taux de transfo\":\n",
    "            meilleurs_taux_transfo = player\n",
    "        elif titre == \"Temps de jeu\":\n",
    "            temps_de_jeu = player\n",
    "        elif titre == \"Moyenne de points par match\":\n",
    "            moyenne_points_match = player\n",
    "        elif titre == \"Nombre de cartons\":\n",
    "            nombre_cartons = player\n",
    "\n",
    "    all_list = [meilleurs_real, meilleurs_marqueur_essais, meilleurs_marqueur_drops, meilleurs_taux_transfo, temps_de_jeu, moyenne_points_match, nombre_cartons]\n",
    "\n",
    "    for list in all_list:\n",
    "        list[0] = list[0].replace('\\xa0', \"\")\n",
    "        print(list)\n"
   ]
  },
  {
   "cell_type": "code",
   "execution_count": 14,
   "metadata": {},
   "outputs": [
    {
     "name": "stdout",
     "output_type": "stream",
     "text": [
      "['L.BERDEU', 'Joe SIMMONDS', 'Maxime LAFAGE']\n",
      "['G.DREAN', 'Sireli MAQALA', 'Baptiste COUILLOUD']\n",
      "['J.SIMMONDS', 'Maxime LAFAGE', 'Louis CARBONEL']\n",
      "['T.DAUBAGNA', 'Zack HENRY', 'Maxime LUCU']\n",
      "['J.TUISOVA', 'Francisco GORRISSEN', 'Joe SIMMONDS']\n",
      "['T.RAMOS', 'Valentin DELPY', 'Nolann LE GARREC']\n",
      "['C.WOKI', 'Apisai NAQALEVU', 'Geoffrey PALIS']\n"
     ]
    }
   ],
   "source": [
    "fn_top_3()"
   ]
  }
 ],
 "metadata": {
  "kernelspec": {
   "display_name": "Python 3",
   "language": "python",
   "name": "python3"
  },
  "language_info": {
   "codemirror_mode": {
    "name": "ipython",
    "version": 3
   },
   "file_extension": ".py",
   "mimetype": "text/x-python",
   "name": "python",
   "nbconvert_exporter": "python",
   "pygments_lexer": "ipython3",
   "version": "3.11.9"
  }
 },
 "nbformat": 4,
 "nbformat_minor": 2
}
