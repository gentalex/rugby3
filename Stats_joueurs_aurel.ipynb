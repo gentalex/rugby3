{
 "cells": [
  {
   "cell_type": "code",
   "execution_count": 18,
   "metadata": {},
   "outputs": [],
   "source": [
    "from bs4 import BeautifulSoup\n",
    "import requests\n",
    "import re\n",
    "import pandas as pd"
   ]
  },
  {
   "cell_type": "code",
   "execution_count": 2,
   "metadata": {},
   "outputs": [],
   "source": [
    "url = requests.get('https://top14.lnr.fr/statistiques/joueurs')\n",
    "soup = BeautifulSoup(url.text, 'html.parser')"
   ]
  },
  {
   "cell_type": "code",
   "execution_count": 3,
   "metadata": {},
   "outputs": [
    {
     "data": {
      "text/plain": [
       "<Response [200]>"
      ]
     },
     "execution_count": 3,
     "metadata": {},
     "output_type": "execute_result"
    }
   ],
   "source": [
    "url"
   ]
  },
  {
   "cell_type": "code",
   "execution_count": 4,
   "metadata": {},
   "outputs": [],
   "source": [
    "# print(url.text)"
   ]
  },
  {
   "cell_type": "code",
   "execution_count": null,
   "metadata": {},
   "outputs": [],
   "source": []
  },
  {
   "cell_type": "code",
   "execution_count": 5,
   "metadata": {},
   "outputs": [],
   "source": [
    "# soup"
   ]
  },
  {
   "cell_type": "code",
   "execution_count": 6,
   "metadata": {},
   "outputs": [],
   "source": [
    "# # FONCTIONNE\n",
    "# # RECUPERATION DES TITRES DES DE CHAQUE STATS AINSI QUE LES 3 MEILLEURS JOUEURS\n",
    "\n",
    "# soup.find_all('div', {'class': 'season-top-block__wrapper'})\n",
    "\n",
    "# # 1ere boucle\n",
    "# for title in soup.find_all('div', {'class': 'season-top-block__wrapper'}):\n",
    "#     print(title.find_all('h3')[0].get_text())\n",
    "\n",
    "# # 2 eme boucle    \n",
    "#     for player in range(len(ele.find_all('a', {'class':'season-top-line__name'}))):\n",
    "#         print(title.find_all('a', {'class':'season-top-line__name'})[player].get_text().strip())\n"
   ]
  },
  {
   "cell_type": "markdown",
   "metadata": {},
   "source": [
    "# a transformer en fonction"
   ]
  },
  {
   "cell_type": "code",
   "execution_count": 7,
   "metadata": {},
   "outputs": [
    {
     "name": "stdout",
     "output_type": "stream",
     "text": [
      "['L.BERDEU', 'Joe SIMMONDS', 'Maxime LAFAGE']\n",
      "['G.DREAN', 'Sireli MAQALA', 'Baptiste COUILLOUD']\n",
      "['J.SIMMONDS', 'Maxime LAFAGE', 'Louis CARBONEL']\n",
      "['T.DAUBAGNA', 'Zack HENRY', 'Maxime LUCU']\n",
      "['J.TUISOVA', 'Francisco GORRISSEN', 'Joe SIMMONDS']\n",
      "['T.RAMOS', 'Valentin DELPY', 'Nolann LE GARREC']\n",
      "['C.WOKI', 'Apisai NAQALEVU', 'Geoffrey PALIS']\n"
     ]
    }
   ],
   "source": [
    "url = requests.get('https://top14.lnr.fr/statistiques/joueurs')\n",
    "soup = BeautifulSoup(url.text, 'html.parser')\n",
    "\n",
    "# Initialiser des listes vides pour chaque catégorie\n",
    "meilleurs_real = []\n",
    "meilleurs_marqueur_essais = []\n",
    "meilleurs_marqueur_drops = []\n",
    "meilleurs_taux_transfo = []\n",
    "temps_de_jeu = []\n",
    "moyenne_points_match = []\n",
    "nombre_cartons = []\n",
    "\n",
    "# je recherche via les balises les informations\n",
    "for title in soup.find_all('div', {'class': 'season-top-block__wrapper'}):\n",
    "    # je recherche tous les titres des catégories\n",
    "    # le titre correspond à chaque catégorie recherchée\n",
    "    titre = title.find('h3').get_text().strip()\n",
    "    \n",
    "    # récupération des joueurs popur chaque liste\n",
    "    # pour chaque joueurs depuis ma soup via find_all (balise et class), je récupère leurs noms avec get_text() et .strip() pour supprimer les espaces\n",
    "    player = [player.get_text().strip() for player in title.find_all('a', {'class': 'season-top-line__name'})]\n",
    "\n",
    "    # associer chaque joueurs à la liste correspondantes avec des conditions \n",
    "    if titre == \"Meilleur réalisateur\":\n",
    "        meilleurs_real = player\n",
    "    elif titre == \"Meilleur marqueur d'essais\":\n",
    "        meilleurs_marqueur_essais = player\n",
    "    elif titre == \"Meilleur marqueur de drops\":\n",
    "        meilleurs_marqueur_drops = player\n",
    "    elif titre == \"Meilleur taux de transfo\":\n",
    "        meilleurs_taux_transfo = player\n",
    "    elif titre == \"Temps de jeu\":\n",
    "        temps_de_jeu = player\n",
    "    elif titre == \"Moyenne de points par match\":\n",
    "        moyenne_points_match = player\n",
    "    elif titre == \"Nombre de cartons\":\n",
    "        nombre_cartons = player\n",
    "\n",
    "all_list = [meilleurs_real, meilleurs_marqueur_essais, meilleurs_marqueur_drops, meilleurs_taux_transfo, temps_de_jeu, moyenne_points_match, nombre_cartons]\n",
    "\n",
    "for list in all_list:\n",
    "    list[0] = list[0].replace('\\xa0', \"\")\n",
    "    print(list)"
   ]
  },
  {
   "cell_type": "code",
   "execution_count": 38,
   "metadata": {},
   "outputs": [],
   "source": [
    "dico_category = {0:\"Meilleurs réalisateurs\",\n",
    "                 1:\"Meilleurs marqueurs d\\'essais\",\n",
    "                 2:\"Meilleurs marqueurs de drops\",\n",
    "                 3:\"Meilleurs taux de transformation\",\n",
    "                 4:\"Plus de temps de jeu\",\n",
    "                 5:\"Moyene de points par match la plus haute\",\n",
    "                 6:\"Nombre de cartons\"}"
   ]
  },
  {
   "cell_type": "code",
   "execution_count": 40,
   "metadata": {},
   "outputs": [
    {
     "data": {
      "text/html": [
       "<div>\n",
       "<style scoped>\n",
       "    .dataframe tbody tr th:only-of-type {\n",
       "        vertical-align: middle;\n",
       "    }\n",
       "\n",
       "    .dataframe tbody tr th {\n",
       "        vertical-align: top;\n",
       "    }\n",
       "\n",
       "    .dataframe thead th {\n",
       "        text-align: right;\n",
       "    }\n",
       "</style>\n",
       "<table border=\"1\" class=\"dataframe\">\n",
       "  <thead>\n",
       "    <tr style=\"text-align: right;\">\n",
       "      <th></th>\n",
       "      <th>RANK</th>\n",
       "      <th>CATEGORY</th>\n",
       "      <th>NAME</th>\n",
       "    </tr>\n",
       "  </thead>\n",
       "  <tbody>\n",
       "    <tr>\n",
       "      <th>0</th>\n",
       "      <td>1</td>\n",
       "      <td>Meilleurs réalisateurs</td>\n",
       "      <td>L.BERDEU</td>\n",
       "    </tr>\n",
       "    <tr>\n",
       "      <th>1</th>\n",
       "      <td>2</td>\n",
       "      <td>Meilleurs réalisateurs</td>\n",
       "      <td>Joe SIMMONDS</td>\n",
       "    </tr>\n",
       "    <tr>\n",
       "      <th>2</th>\n",
       "      <td>3</td>\n",
       "      <td>Meilleurs réalisateurs</td>\n",
       "      <td>Maxime LAFAGE</td>\n",
       "    </tr>\n",
       "    <tr>\n",
       "      <th>0</th>\n",
       "      <td>1</td>\n",
       "      <td>Meilleurs marqueurs d'essais</td>\n",
       "      <td>G.DREAN</td>\n",
       "    </tr>\n",
       "    <tr>\n",
       "      <th>1</th>\n",
       "      <td>2</td>\n",
       "      <td>Meilleurs marqueurs d'essais</td>\n",
       "      <td>Sireli MAQALA</td>\n",
       "    </tr>\n",
       "    <tr>\n",
       "      <th>2</th>\n",
       "      <td>3</td>\n",
       "      <td>Meilleurs marqueurs d'essais</td>\n",
       "      <td>Baptiste COUILLOUD</td>\n",
       "    </tr>\n",
       "    <tr>\n",
       "      <th>0</th>\n",
       "      <td>1</td>\n",
       "      <td>Meilleurs marqueurs de drops</td>\n",
       "      <td>J.SIMMONDS</td>\n",
       "    </tr>\n",
       "    <tr>\n",
       "      <th>1</th>\n",
       "      <td>2</td>\n",
       "      <td>Meilleurs marqueurs de drops</td>\n",
       "      <td>Maxime LAFAGE</td>\n",
       "    </tr>\n",
       "    <tr>\n",
       "      <th>2</th>\n",
       "      <td>3</td>\n",
       "      <td>Meilleurs marqueurs de drops</td>\n",
       "      <td>Louis CARBONEL</td>\n",
       "    </tr>\n",
       "    <tr>\n",
       "      <th>0</th>\n",
       "      <td>1</td>\n",
       "      <td>Meilleurs taux de transformation</td>\n",
       "      <td>T.DAUBAGNA</td>\n",
       "    </tr>\n",
       "    <tr>\n",
       "      <th>1</th>\n",
       "      <td>2</td>\n",
       "      <td>Meilleurs taux de transformation</td>\n",
       "      <td>Zack HENRY</td>\n",
       "    </tr>\n",
       "    <tr>\n",
       "      <th>2</th>\n",
       "      <td>3</td>\n",
       "      <td>Meilleurs taux de transformation</td>\n",
       "      <td>Maxime LUCU</td>\n",
       "    </tr>\n",
       "    <tr>\n",
       "      <th>0</th>\n",
       "      <td>1</td>\n",
       "      <td>Plus de temps de jeu</td>\n",
       "      <td>J.TUISOVA</td>\n",
       "    </tr>\n",
       "    <tr>\n",
       "      <th>1</th>\n",
       "      <td>2</td>\n",
       "      <td>Plus de temps de jeu</td>\n",
       "      <td>Francisco GORRISSEN</td>\n",
       "    </tr>\n",
       "    <tr>\n",
       "      <th>2</th>\n",
       "      <td>3</td>\n",
       "      <td>Plus de temps de jeu</td>\n",
       "      <td>Joe SIMMONDS</td>\n",
       "    </tr>\n",
       "    <tr>\n",
       "      <th>0</th>\n",
       "      <td>1</td>\n",
       "      <td>Moyene de points par match la plus haute</td>\n",
       "      <td>T.RAMOS</td>\n",
       "    </tr>\n",
       "    <tr>\n",
       "      <th>1</th>\n",
       "      <td>2</td>\n",
       "      <td>Moyene de points par match la plus haute</td>\n",
       "      <td>Valentin DELPY</td>\n",
       "    </tr>\n",
       "    <tr>\n",
       "      <th>2</th>\n",
       "      <td>3</td>\n",
       "      <td>Moyene de points par match la plus haute</td>\n",
       "      <td>Nolann LE GARREC</td>\n",
       "    </tr>\n",
       "    <tr>\n",
       "      <th>0</th>\n",
       "      <td>1</td>\n",
       "      <td>Nombre de cartons</td>\n",
       "      <td>C.WOKI</td>\n",
       "    </tr>\n",
       "    <tr>\n",
       "      <th>1</th>\n",
       "      <td>2</td>\n",
       "      <td>Nombre de cartons</td>\n",
       "      <td>Apisai NAQALEVU</td>\n",
       "    </tr>\n",
       "    <tr>\n",
       "      <th>2</th>\n",
       "      <td>3</td>\n",
       "      <td>Nombre de cartons</td>\n",
       "      <td>Geoffrey PALIS</td>\n",
       "    </tr>\n",
       "  </tbody>\n",
       "</table>\n",
       "</div>"
      ],
      "text/plain": [
       "   RANK                                  CATEGORY                 NAME\n",
       "0     1                    Meilleurs réalisateurs             L.BERDEU\n",
       "1     2                    Meilleurs réalisateurs         Joe SIMMONDS\n",
       "2     3                    Meilleurs réalisateurs        Maxime LAFAGE\n",
       "0     1              Meilleurs marqueurs d'essais              G.DREAN\n",
       "1     2              Meilleurs marqueurs d'essais        Sireli MAQALA\n",
       "2     3              Meilleurs marqueurs d'essais   Baptiste COUILLOUD\n",
       "0     1              Meilleurs marqueurs de drops           J.SIMMONDS\n",
       "1     2              Meilleurs marqueurs de drops        Maxime LAFAGE\n",
       "2     3              Meilleurs marqueurs de drops       Louis CARBONEL\n",
       "0     1          Meilleurs taux de transformation           T.DAUBAGNA\n",
       "1     2          Meilleurs taux de transformation           Zack HENRY\n",
       "2     3          Meilleurs taux de transformation          Maxime LUCU\n",
       "0     1                      Plus de temps de jeu            J.TUISOVA\n",
       "1     2                      Plus de temps de jeu  Francisco GORRISSEN\n",
       "2     3                      Plus de temps de jeu         Joe SIMMONDS\n",
       "0     1  Moyene de points par match la plus haute              T.RAMOS\n",
       "1     2  Moyene de points par match la plus haute       Valentin DELPY\n",
       "2     3  Moyene de points par match la plus haute     Nolann LE GARREC\n",
       "0     1                         Nombre de cartons               C.WOKI\n",
       "1     2                         Nombre de cartons      Apisai NAQALEVU\n",
       "2     3                         Nombre de cartons       Geoffrey PALIS"
      ]
     },
     "execution_count": 40,
     "metadata": {},
     "output_type": "execute_result"
    }
   ],
   "source": [
    "df = pd.DataFrame()\n",
    "\n",
    "for indice, list in enumerate(all_list):\n",
    "\n",
    "    df_stats = pd.DataFrame({\n",
    "        \"RANK\":[1, 2, 3],\n",
    "        \"CATEGORY\":dico_category[indice],\n",
    "        \"NAME\":list \n",
    "    })\n",
    "    \n",
    "    df = pd.concat([df, df_stats])\n",
    "    \n",
    "df\n",
    "\n",
    "    "
   ]
  },
  {
   "cell_type": "code",
   "execution_count": 8,
   "metadata": {},
   "outputs": [],
   "source": [
    "# print(meilleurs_real)\n",
    "# print(meilleurs_marqueur_essais)\n",
    "# print(meilleurs_marqueur_drops)\n",
    "# print(meilleurs_taux_transfo)\n",
    "# print(temps_de_jeu)\n",
    "# print(moyenne_points_match)\n",
    "# print(nombre_cartons)"
   ]
  },
  {
   "cell_type": "code",
   "execution_count": 9,
   "metadata": {},
   "outputs": [],
   "source": [
    "# meilleurs_real[0].replace('\\xa0', \"\")"
   ]
  },
  {
   "cell_type": "code",
   "execution_count": 10,
   "metadata": {},
   "outputs": [],
   "source": [
    "# all_list = [meilleurs_real, meilleurs_marqueur_essais, meilleurs_marqueur_drops, meilleurs_taux_transfo, temps_de_jeu, moyenne_points_match, nombre_cartons]\n",
    "\n",
    "# for list in all_list:\n",
    "#     list[0] = list[0].replace('\\xa0', \"\")\n",
    "#     print(list)"
   ]
  },
  {
   "cell_type": "markdown",
   "metadata": {},
   "source": [
    "# CREATION DE LA FONCTION TOP 3"
   ]
  },
  {
   "cell_type": "code",
   "execution_count": 11,
   "metadata": {},
   "outputs": [],
   "source": [
    "def fn_top_3():\n",
    "    # Initialiser des listes vides pour chaque catégorie\n",
    "    meilleurs_real = []\n",
    "    meilleurs_marqueur_essais = []\n",
    "    meilleurs_marqueur_drops = []\n",
    "    meilleurs_taux_transfo = []\n",
    "    temps_de_jeu = []\n",
    "    moyenne_points_match = []\n",
    "    nombre_cartons = []\n",
    "\n",
    "    # je recherche via les balises les informations\n",
    "    for title in soup.find_all('div', {'class': 'season-top-block__wrapper'}):\n",
    "        # je recherche tous les titres des catégories\n",
    "        # le titre correspond à chaque catégorie recherchée\n",
    "        titre = title.find('h3').get_text().strip()\n",
    "        \n",
    "        # récupération des joueurs popur chaque liste\n",
    "        # pour chaque joueurs depuis ma soup via find_all (balise et class), je récupère leurs noms avec get_text() et .strip() pour supprimer les espaces\n",
    "        player = [player.get_text().strip() for player in title.find_all('a', {'class': 'season-top-line__name'})]\n",
    "\n",
    "        # associer chaque joueurs à la liste correspondantes avec des conditions \n",
    "        if titre == \"Meilleur réalisateur\":\n",
    "            meilleurs_real = player\n",
    "        elif titre == \"Meilleur marqueur d'essais\":\n",
    "            meilleurs_marqueur_essais = player\n",
    "        elif titre == \"Meilleur marqueur de drops\":\n",
    "            meilleurs_marqueur_drops = player\n",
    "        elif titre == \"Meilleur taux de transfo\":\n",
    "            meilleurs_taux_transfo = player\n",
    "        elif titre == \"Temps de jeu\":\n",
    "            temps_de_jeu = player\n",
    "        elif titre == \"Moyenne de points par match\":\n",
    "            moyenne_points_match = player\n",
    "        elif titre == \"Nombre de cartons\":\n",
    "            nombre_cartons = player\n",
    "\n",
    "    all_list = [meilleurs_real, meilleurs_marqueur_essais, meilleurs_marqueur_drops, meilleurs_taux_transfo, temps_de_jeu, moyenne_points_match, nombre_cartons]\n",
    "\n",
    "    for list in all_list:\n",
    "        list[0] = list[0].replace('\\xa0', \"\")\n",
    "        print(list)\n"
   ]
  },
  {
   "cell_type": "code",
   "execution_count": 12,
   "metadata": {},
   "outputs": [
    {
     "name": "stdout",
     "output_type": "stream",
     "text": [
      "['L.BERDEU', 'Joe SIMMONDS', 'Maxime LAFAGE']\n",
      "['G.DREAN', 'Sireli MAQALA', 'Baptiste COUILLOUD']\n",
      "['J.SIMMONDS', 'Maxime LAFAGE', 'Louis CARBONEL']\n",
      "['T.DAUBAGNA', 'Zack HENRY', 'Maxime LUCU']\n",
      "['J.TUISOVA', 'Francisco GORRISSEN', 'Joe SIMMONDS']\n",
      "['T.RAMOS', 'Valentin DELPY', 'Nolann LE GARREC']\n",
      "['C.WOKI', 'Apisai NAQALEVU', 'Geoffrey PALIS']\n"
     ]
    }
   ],
   "source": [
    "fn_top_3()"
   ]
  }
 ],
 "metadata": {
  "kernelspec": {
   "display_name": "Python 3",
   "language": "python",
   "name": "python3"
  },
  "language_info": {
   "codemirror_mode": {
    "name": "ipython",
    "version": 3
   },
   "file_extension": ".py",
   "mimetype": "text/x-python",
   "name": "python",
   "nbconvert_exporter": "python",
   "pygments_lexer": "ipython3",
   "version": "3.11.9"
  }
 },
 "nbformat": 4,
 "nbformat_minor": 2
}
