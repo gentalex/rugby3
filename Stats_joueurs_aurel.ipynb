{
 "cells": [
  {
   "cell_type": "code",
   "execution_count": 1,
   "metadata": {},
   "outputs": [],
   "source": [
    "from bs4 import BeautifulSoup\n",
    "import requests\n",
    "import re\n",
    "import pandas"
   ]
  },
  {
   "cell_type": "code",
   "execution_count": 67,
   "metadata": {},
   "outputs": [],
   "source": [
    "url = requests.get('https://top14.lnr.fr/statistiques/joueurs')"
   ]
  },
  {
   "cell_type": "code",
   "execution_count": 68,
   "metadata": {},
   "outputs": [
    {
     "data": {
      "text/plain": [
       "<Response [200]>"
      ]
     },
     "execution_count": 68,
     "metadata": {},
     "output_type": "execute_result"
    }
   ],
   "source": [
    "url"
   ]
  },
  {
   "cell_type": "code",
   "execution_count": null,
   "metadata": {},
   "outputs": [],
   "source": [
    "# print(url.text)"
   ]
  },
  {
   "cell_type": "code",
   "execution_count": 70,
   "metadata": {},
   "outputs": [],
   "source": [
    "soup = BeautifulSoup(url.text, 'html.parser')"
   ]
  },
  {
   "cell_type": "code",
   "execution_count": null,
   "metadata": {},
   "outputs": [],
   "source": [
    "# soup"
   ]
  },
  {
   "cell_type": "code",
   "execution_count": 103,
   "metadata": {},
   "outputs": [
    {
     "name": "stdout",
     "output_type": "stream",
     "text": [
      "Meilleur réalisateur\n",
      "J. SIMMONDS\n",
      "Léo BERDEU\n",
      "Nolann LE GARREC\n",
      "Meilleur marqueur d'essais\n",
      "S. MAQALA\n",
      "Gaël DREAN\n",
      "Baptiste COUILLOUD\n",
      "Meilleur marqueur de drops\n",
      "J. SIMMONDS\n",
      "Louis CARBONEL\n",
      "Joris SEGONDS\n",
      "Meilleur taux de transfo\n",
      "Z. HENRY\n",
      "Camille LOPEZ\n",
      "Thibault DAUBAGNA\n",
      "Temps de jeu\n",
      "J. TUISOVA\n",
      "Francisco GORRISSEN\n",
      "Thomas CEYTE\n",
      "Moyenne de points par match\n",
      "T. RAMOS\n",
      "Valentin DELPY\n",
      "Nolann LE GARREC\n",
      "Nombre de cartons\n",
      "C. WOKI\n",
      "Baptiste COUILLOUD\n",
      "Sacha ZEGUEUR\n"
     ]
    }
   ],
   "source": [
    "# FONCTIONNE\n",
    "# RECUPERATION DES TITRES DES DE CHAQUE STATS AINSI QUE LES 3 MEILLEURS JOUEURS\n",
    "\n",
    "soup.find_all('div', {'class': 'season-top-block__wrapper'})\n",
    "\n",
    "# 1ere boucle\n",
    "for title in soup.find_all('div', {'class': 'season-top-block__wrapper'}):\n",
    "    print(title.find_all('h3')[0].get_text())\n",
    "\n",
    "# 2 eme boucle    \n",
    "    for player in range(len(ele.find_all('a', {'class':'season-top-line__name'}))):\n",
    "        print(title.find_all('a', {'class':'season-top-line__name'})[player].get_text().strip())\n"
   ]
  },
  {
   "cell_type": "code",
   "execution_count": 104,
   "metadata": {},
   "outputs": [
    {
     "name": "stdout",
     "output_type": "stream",
     "text": [
      "Meilleur réalisateur\n",
      "Meilleur marqueur d'essais\n",
      "Meilleur marqueur de drops\n",
      "Meilleur taux de transfo\n",
      "Temps de jeu\n",
      "Moyenne de points par match\n",
      "Nombre de cartons\n"
     ]
    }
   ],
   "source": [
    "# FONCTIONNE\n",
    "# RECUPERATION DES TITRES DES DE CHAQUE STATS AINSI QUE LES 3 MEILLEURS JOUEURS\n",
    "\n",
    "soup.find_all('div', {'class': 'season-top-block__wrapper'})\n",
    "\n",
    "# 1ere boucle\n",
    "for title in soup.find_all('div', {'class': 'season-top-block__wrapper'}):\n",
    "    \n",
    "    print(title.find_all('h3')[0].get_text())\n",
    "\n",
    "# 2 eme boucle    \n",
    "    # for player in range(len(ele.find_all('a', {'class':'season-top-line__name'}))):\n",
    "    #     print(title.find_all('a', {'class':'season-top-line__name'})[player].get_text().strip())\n"
   ]
  },
  {
   "cell_type": "code",
   "execution_count": null,
   "metadata": {},
   "outputs": [],
   "source": []
  }
 ],
 "metadata": {
  "kernelspec": {
   "display_name": "Python 3",
   "language": "python",
   "name": "python3"
  },
  "language_info": {
   "codemirror_mode": {
    "name": "ipython",
    "version": 3
   },
   "file_extension": ".py",
   "mimetype": "text/x-python",
   "name": "python",
   "nbconvert_exporter": "python",
   "pygments_lexer": "ipython3",
   "version": "3.11.9"
  }
 },
 "nbformat": 4,
 "nbformat_minor": 2
}
