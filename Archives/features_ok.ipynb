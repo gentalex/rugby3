{
 "cells": [
  {
   "cell_type": "markdown",
   "metadata": {},
   "source": [
    "# Fichier uniquement destinés à l'ajout des features validées en offline"
   ]
  },
  {
   "cell_type": "markdown",
   "metadata": {},
   "source": [
    "# IMPORT DES BIBLIOTHEQUES"
   ]
  },
  {
   "cell_type": "code",
   "execution_count": 1,
   "metadata": {},
   "outputs": [],
   "source": [
    "from bs4 import BeautifulSoup\n",
    "import requests\n",
    "import re\n",
    "import pandas"
   ]
  },
  {
   "cell_type": "markdown",
   "metadata": {},
   "source": [
    "# FONCTION TOP 3\n",
    "# retourne les listes des trois meilleurs performeurs par sujets:\n",
    "- meilleurs realisateurs\n",
    "- meilleurs marqueurs d'essais\n",
    "- meilleurs marqueurs drops\n",
    "- meilleurs taux transfo\n",
    "- temps de jeu\n",
    "- moyenne points par matchs\n",
    "- nombre de cartons"
   ]
  },
  {
   "cell_type": "code",
   "execution_count": 3,
   "metadata": {},
   "outputs": [
    {
     "name": "stdout",
     "output_type": "stream",
     "text": [
      "['L.BERDEU', 'Joe SIMMONDS', 'Maxime LAFAGE']\n",
      "['G.DREAN', 'Sireli MAQALA', 'Baptiste COUILLOUD']\n",
      "['J.SIMMONDS', 'Maxime LAFAGE', 'Louis CARBONEL']\n",
      "['T.DAUBAGNA', 'Zack HENRY', 'Maxime LUCU']\n",
      "['J.TUISOVA', 'Francisco GORRISSEN', 'Joe SIMMONDS']\n",
      "['T.RAMOS', 'Valentin DELPY', 'Nolann LE GARREC']\n",
      "['C.WOKI', 'Apisai NAQALEVU', 'Geoffrey PALIS']\n"
     ]
    }
   ],
   "source": [
    "def fn_top_3():\n",
    "    url = requests.get('https://top14.lnr.fr/statistiques/joueurs')\n",
    "    soup = BeautifulSoup(url.text, 'html.parser')\n",
    "    \n",
    "    # Initialiser des listes vides pour chaque catégorie\n",
    "    meilleurs_real = []\n",
    "    meilleurs_marqueur_essais = []\n",
    "    meilleurs_marqueur_drops = []\n",
    "    meilleurs_taux_transfo = []\n",
    "    temps_de_jeu = []\n",
    "    moyenne_points_match = []\n",
    "    nombre_cartons = []\n",
    "\n",
    "    # je recherche via les balises les informations\n",
    "    for title in soup.find_all('div', {'class': 'season-top-block__wrapper'}):\n",
    "        # je recherche tous les titres des catégories\n",
    "        # le titre correspond à chaque catégorie recherchée\n",
    "        titre = title.find('h3').get_text().strip()\n",
    "        \n",
    "        # récupération des joueurs popur chaque liste\n",
    "        # pour chaque joueurs depuis ma soup via find_all (balise et class), je récupère leurs noms avec get_text() et .strip() pour supprimer les espaces\n",
    "        player = [player.get_text().strip() for player in title.find_all('a', {'class': 'season-top-line__name'})]\n",
    "\n",
    "        # associer chaque joueurs à la liste correspondantes avec des conditions \n",
    "        if titre == \"Meilleur réalisateur\":\n",
    "            meilleurs_real = player\n",
    "        elif titre == \"Meilleur marqueur d'essais\":\n",
    "            meilleurs_marqueur_essais = player\n",
    "        elif titre == \"Meilleur marqueur de drops\":\n",
    "            meilleurs_marqueur_drops = player\n",
    "        elif titre == \"Meilleur taux de transfo\":\n",
    "            meilleurs_taux_transfo = player\n",
    "        elif titre == \"Temps de jeu\":\n",
    "            temps_de_jeu = player\n",
    "        elif titre == \"Moyenne de points par match\":\n",
    "            moyenne_points_match = player\n",
    "        elif titre == \"Nombre de cartons\":\n",
    "            nombre_cartons = player\n",
    "\n",
    "    all_list = [meilleurs_real, meilleurs_marqueur_essais, meilleurs_marqueur_drops, meilleurs_taux_transfo, temps_de_jeu, moyenne_points_match, nombre_cartons]\n",
    "\n",
    "    for list in all_list:\n",
    "        list[0] = list[0].replace('\\xa0', \"\")\n",
    "        print(list)\n",
    "\n",
    "fn_top_3()"
   ]
  }
 ],
 "metadata": {
  "kernelspec": {
   "display_name": "Python 3",
   "language": "python",
   "name": "python3"
  },
  "language_info": {
   "codemirror_mode": {
    "name": "ipython",
    "version": 3
   },
   "file_extension": ".py",
   "mimetype": "text/x-python",
   "name": "python",
   "nbconvert_exporter": "python",
   "pygments_lexer": "ipython3",
   "version": "3.11.9"
  }
 },
 "nbformat": 4,
 "nbformat_minor": 2
}
