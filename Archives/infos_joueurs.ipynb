{
 "cells": [
  {
   "cell_type": "code",
   "execution_count": null,
   "metadata": {},
   "outputs": [],
   "source": [
    "# Test pour github"
   ]
  },
  {
   "cell_type": "code",
   "execution_count": 1,
   "metadata": {},
   "outputs": [
    {
     "name": "stdout",
     "output_type": "stream",
     "text": [
      "Jermaine Ainsley\n"
     ]
    }
   ],
   "source": [
    "# WS des terrains 4 padel\n",
    "from pprint import pprint\n",
    "from bs4 import BeautifulSoup\n",
    "import requests\n",
    "import pandas as pd\n",
    "import re\n",
    "\n",
    "url = 'https://www.ultimaterugby.com/app/public/index.php/lyon/squad'\n",
    "\n",
    "html = requests.get(url)\n",
    "\n",
    "soup = BeautifulSoup(html.text, 'html.parser')\n",
    "\n",
    "test = soup.find_all('div', {\"class\" : \"col-md-2 col-sm-4 col-xs-6\"})\n",
    "\n",
    "print(str(test[0].find_all('h4')[0].get_text(separator='<br/>')).replace(\"<br/>\",\" \"))\n",
    "\n",
    "# for player in range(10):\n",
    "#     print(test[player].find_all('div', {'class' : \"front\"})[0].get_text())"
   ]
  },
  {
   "cell_type": "code",
   "execution_count": 2,
   "metadata": {},
   "outputs": [
    {
     "name": "stdout",
     "output_type": "stream",
     "text": [
      "Pita Ahki\n",
      "David Ainu'u\n",
      "Lomig Akrab\n",
      "Thomas Alary\n",
      "Dorian Aldegheri\n",
      "Richie Arnold\n",
      "Paul Ausset\n",
      "Cyril Baille\n",
      "Leo Banos\n",
      "Pierre-Louis Barassi\n",
      "Benjamin Bertrand\n",
      "Setareki Bituniyata\n",
      "Arthur Bonneval\n",
      "Jean Bouilhou\n",
      "Joshua Brennan\n",
      "Ange Capuozzo\n",
      "Mathis Castro Ferreira\n",
      "Santiago Chocobares\n",
      "Paul Costes\n",
      "Guillaume Cramont\n",
      "Francois Cros\n",
      "Simon Daroque\n",
      "Dimitri Delibes\n",
      "Valentin Delpy\n",
      "Antoine Dupont\n",
      "Efrain Elias\n",
      "Nelson Epee\n",
      "Thibaud Flament\n",
      "Kalvin Gourgues\n",
      "Paul Graou\n",
      "Malachi Hawkes\n",
      "Theo Idjellidaine\n",
      "Anthony Jelonch\n",
      "Lomig Jouanny\n",
      "Jerome Kaino\n",
      "Blair Kinghorn\n",
      "Leo Labarthle\n",
      "Thomas Lacombre\n",
      "Nepo Laulala\n",
      "Matthis Lebel\n",
      "Ruben Maka\n",
      "Paul Mallez\n",
      "Juan Cruz Mallia\n",
      "Julien Marchand\n",
      "Peato Mauvaka\n",
      "Emmanuel Meafou\n",
      "Joel Merkler\n",
      "Ugo Mola\n",
      "Rodrigue Neti\n",
      "Theo Ntamack\n",
      "Romain Ntamack\n",
      "Alban Placines\n",
      "Clement Poitrenaud\n",
      "Raphael Portat\n",
      "Celian Pouzelgues\n",
      "Thomas Ramos\n",
      "Hugo Reilhes\n",
      "Matias Remue\n",
      "Romain Riguet\n",
      "Alexandre Roumat\n",
      "Naoto Saito\n",
      "Selevasio Tolofua\n",
      "Clement Verge\n",
      "Lucas Vigneres\n",
      "Jack Willis\n"
     ]
    }
   ],
   "source": [
    "url = 'https://www.ultimaterugby.com/app/public/index.php/toulouse/squad'\n",
    "\n",
    "html = requests.get(url)\n",
    "\n",
    "soup = BeautifulSoup(html.text, 'html.parser')\n",
    "\n",
    "test = soup.find_all('div', {\"class\" : \"col-md-2 col-sm-4 col-xs-6\"})\n",
    "\n",
    "for player in range(len(test)):\n",
    "    print(str(test[player].find_all('h4')[0].get_text(separator='<br/>')).replace(\"<br/>\",\" \"))"
   ]
  }
 ],
 "metadata": {
  "kernelspec": {
   "display_name": "Python 3",
   "language": "python",
   "name": "python3"
  },
  "language_info": {
   "codemirror_mode": {
    "name": "ipython",
    "version": 3
   },
   "file_extension": ".py",
   "mimetype": "text/x-python",
   "name": "python",
   "nbconvert_exporter": "python",
   "pygments_lexer": "ipython3",
   "version": "3.11.9"
  }
 },
 "nbformat": 4,
 "nbformat_minor": 2
}
